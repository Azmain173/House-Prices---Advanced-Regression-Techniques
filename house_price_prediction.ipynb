{
  "nbformat": 4,
  "nbformat_minor": 0,
  "metadata": {
    "colab": {
      "provenance": [],
      "authorship_tag": "ABX9TyOwsTFRnhFOm5HGkfFDBZdL",
      "include_colab_link": true
    },
    "kernelspec": {
      "name": "python3",
      "display_name": "Python 3"
    },
    "language_info": {
      "name": "python"
    }
  },
  "cells": [
    {
      "cell_type": "markdown",
      "metadata": {
        "id": "view-in-github",
        "colab_type": "text"
      },
      "source": [
        "<a href=\"https://colab.research.google.com/github/Azmain173/House-Prices---Advanced-Regression-Techniques/blob/main/house_price_prediction.ipynb\" target=\"_parent\"><img src=\"https://colab.research.google.com/assets/colab-badge.svg\" alt=\"Open In Colab\"/></a>"
      ]
    },
    {
      "cell_type": "code",
      "execution_count": 60,
      "metadata": {
        "id": "W2yMlVrY2Mi-"
      },
      "outputs": [],
      "source": [
        "import numpy as np\n",
        "import pandas as pd"
      ]
    },
    {
      "cell_type": "code",
      "source": [
        "train_data = pd.read_csv(\"/content/train (1).csv\")\n",
        "train_data.head()"
      ],
      "metadata": {
        "colab": {
          "base_uri": "https://localhost:8080/",
          "height": 256
        },
        "id": "OADnZt_I2VB5",
        "outputId": "aca3ccd5-38d8-451e-9711-0ca393bb3168"
      },
      "execution_count": 61,
      "outputs": [
        {
          "output_type": "execute_result",
          "data": {
            "text/plain": [
              "   Id  MSSubClass MSZoning  LotFrontage  LotArea Street Alley LotShape  \\\n",
              "0   1          60       RL         65.0     8450   Pave   NaN      Reg   \n",
              "1   2          20       RL         80.0     9600   Pave   NaN      Reg   \n",
              "2   3          60       RL         68.0    11250   Pave   NaN      IR1   \n",
              "3   4          70       RL         60.0     9550   Pave   NaN      IR1   \n",
              "4   5          60       RL         84.0    14260   Pave   NaN      IR1   \n",
              "\n",
              "  LandContour Utilities  ... PoolArea PoolQC Fence MiscFeature MiscVal MoSold  \\\n",
              "0         Lvl    AllPub  ...        0    NaN   NaN         NaN       0      2   \n",
              "1         Lvl    AllPub  ...        0    NaN   NaN         NaN       0      5   \n",
              "2         Lvl    AllPub  ...        0    NaN   NaN         NaN       0      9   \n",
              "3         Lvl    AllPub  ...        0    NaN   NaN         NaN       0      2   \n",
              "4         Lvl    AllPub  ...        0    NaN   NaN         NaN       0     12   \n",
              "\n",
              "  YrSold  SaleType  SaleCondition  SalePrice  \n",
              "0   2008        WD         Normal     208500  \n",
              "1   2007        WD         Normal     181500  \n",
              "2   2008        WD         Normal     223500  \n",
              "3   2006        WD        Abnorml     140000  \n",
              "4   2008        WD         Normal     250000  \n",
              "\n",
              "[5 rows x 81 columns]"
            ],
            "text/html": [
              "\n",
              "  <div id=\"df-75d9d1b6-54b9-4be9-a826-317424e47538\" class=\"colab-df-container\">\n",
              "    <div>\n",
              "<style scoped>\n",
              "    .dataframe tbody tr th:only-of-type {\n",
              "        vertical-align: middle;\n",
              "    }\n",
              "\n",
              "    .dataframe tbody tr th {\n",
              "        vertical-align: top;\n",
              "    }\n",
              "\n",
              "    .dataframe thead th {\n",
              "        text-align: right;\n",
              "    }\n",
              "</style>\n",
              "<table border=\"1\" class=\"dataframe\">\n",
              "  <thead>\n",
              "    <tr style=\"text-align: right;\">\n",
              "      <th></th>\n",
              "      <th>Id</th>\n",
              "      <th>MSSubClass</th>\n",
              "      <th>MSZoning</th>\n",
              "      <th>LotFrontage</th>\n",
              "      <th>LotArea</th>\n",
              "      <th>Street</th>\n",
              "      <th>Alley</th>\n",
              "      <th>LotShape</th>\n",
              "      <th>LandContour</th>\n",
              "      <th>Utilities</th>\n",
              "      <th>...</th>\n",
              "      <th>PoolArea</th>\n",
              "      <th>PoolQC</th>\n",
              "      <th>Fence</th>\n",
              "      <th>MiscFeature</th>\n",
              "      <th>MiscVal</th>\n",
              "      <th>MoSold</th>\n",
              "      <th>YrSold</th>\n",
              "      <th>SaleType</th>\n",
              "      <th>SaleCondition</th>\n",
              "      <th>SalePrice</th>\n",
              "    </tr>\n",
              "  </thead>\n",
              "  <tbody>\n",
              "    <tr>\n",
              "      <th>0</th>\n",
              "      <td>1</td>\n",
              "      <td>60</td>\n",
              "      <td>RL</td>\n",
              "      <td>65.0</td>\n",
              "      <td>8450</td>\n",
              "      <td>Pave</td>\n",
              "      <td>NaN</td>\n",
              "      <td>Reg</td>\n",
              "      <td>Lvl</td>\n",
              "      <td>AllPub</td>\n",
              "      <td>...</td>\n",
              "      <td>0</td>\n",
              "      <td>NaN</td>\n",
              "      <td>NaN</td>\n",
              "      <td>NaN</td>\n",
              "      <td>0</td>\n",
              "      <td>2</td>\n",
              "      <td>2008</td>\n",
              "      <td>WD</td>\n",
              "      <td>Normal</td>\n",
              "      <td>208500</td>\n",
              "    </tr>\n",
              "    <tr>\n",
              "      <th>1</th>\n",
              "      <td>2</td>\n",
              "      <td>20</td>\n",
              "      <td>RL</td>\n",
              "      <td>80.0</td>\n",
              "      <td>9600</td>\n",
              "      <td>Pave</td>\n",
              "      <td>NaN</td>\n",
              "      <td>Reg</td>\n",
              "      <td>Lvl</td>\n",
              "      <td>AllPub</td>\n",
              "      <td>...</td>\n",
              "      <td>0</td>\n",
              "      <td>NaN</td>\n",
              "      <td>NaN</td>\n",
              "      <td>NaN</td>\n",
              "      <td>0</td>\n",
              "      <td>5</td>\n",
              "      <td>2007</td>\n",
              "      <td>WD</td>\n",
              "      <td>Normal</td>\n",
              "      <td>181500</td>\n",
              "    </tr>\n",
              "    <tr>\n",
              "      <th>2</th>\n",
              "      <td>3</td>\n",
              "      <td>60</td>\n",
              "      <td>RL</td>\n",
              "      <td>68.0</td>\n",
              "      <td>11250</td>\n",
              "      <td>Pave</td>\n",
              "      <td>NaN</td>\n",
              "      <td>IR1</td>\n",
              "      <td>Lvl</td>\n",
              "      <td>AllPub</td>\n",
              "      <td>...</td>\n",
              "      <td>0</td>\n",
              "      <td>NaN</td>\n",
              "      <td>NaN</td>\n",
              "      <td>NaN</td>\n",
              "      <td>0</td>\n",
              "      <td>9</td>\n",
              "      <td>2008</td>\n",
              "      <td>WD</td>\n",
              "      <td>Normal</td>\n",
              "      <td>223500</td>\n",
              "    </tr>\n",
              "    <tr>\n",
              "      <th>3</th>\n",
              "      <td>4</td>\n",
              "      <td>70</td>\n",
              "      <td>RL</td>\n",
              "      <td>60.0</td>\n",
              "      <td>9550</td>\n",
              "      <td>Pave</td>\n",
              "      <td>NaN</td>\n",
              "      <td>IR1</td>\n",
              "      <td>Lvl</td>\n",
              "      <td>AllPub</td>\n",
              "      <td>...</td>\n",
              "      <td>0</td>\n",
              "      <td>NaN</td>\n",
              "      <td>NaN</td>\n",
              "      <td>NaN</td>\n",
              "      <td>0</td>\n",
              "      <td>2</td>\n",
              "      <td>2006</td>\n",
              "      <td>WD</td>\n",
              "      <td>Abnorml</td>\n",
              "      <td>140000</td>\n",
              "    </tr>\n",
              "    <tr>\n",
              "      <th>4</th>\n",
              "      <td>5</td>\n",
              "      <td>60</td>\n",
              "      <td>RL</td>\n",
              "      <td>84.0</td>\n",
              "      <td>14260</td>\n",
              "      <td>Pave</td>\n",
              "      <td>NaN</td>\n",
              "      <td>IR1</td>\n",
              "      <td>Lvl</td>\n",
              "      <td>AllPub</td>\n",
              "      <td>...</td>\n",
              "      <td>0</td>\n",
              "      <td>NaN</td>\n",
              "      <td>NaN</td>\n",
              "      <td>NaN</td>\n",
              "      <td>0</td>\n",
              "      <td>12</td>\n",
              "      <td>2008</td>\n",
              "      <td>WD</td>\n",
              "      <td>Normal</td>\n",
              "      <td>250000</td>\n",
              "    </tr>\n",
              "  </tbody>\n",
              "</table>\n",
              "<p>5 rows × 81 columns</p>\n",
              "</div>\n",
              "    <div class=\"colab-df-buttons\">\n",
              "\n",
              "  <div class=\"colab-df-container\">\n",
              "    <button class=\"colab-df-convert\" onclick=\"convertToInteractive('df-75d9d1b6-54b9-4be9-a826-317424e47538')\"\n",
              "            title=\"Convert this dataframe to an interactive table.\"\n",
              "            style=\"display:none;\">\n",
              "\n",
              "  <svg xmlns=\"http://www.w3.org/2000/svg\" height=\"24px\" viewBox=\"0 -960 960 960\">\n",
              "    <path d=\"M120-120v-720h720v720H120Zm60-500h600v-160H180v160Zm220 220h160v-160H400v160Zm0 220h160v-160H400v160ZM180-400h160v-160H180v160Zm440 0h160v-160H620v160ZM180-180h160v-160H180v160Zm440 0h160v-160H620v160Z\"/>\n",
              "  </svg>\n",
              "    </button>\n",
              "\n",
              "  <style>\n",
              "    .colab-df-container {\n",
              "      display:flex;\n",
              "      gap: 12px;\n",
              "    }\n",
              "\n",
              "    .colab-df-convert {\n",
              "      background-color: #E8F0FE;\n",
              "      border: none;\n",
              "      border-radius: 50%;\n",
              "      cursor: pointer;\n",
              "      display: none;\n",
              "      fill: #1967D2;\n",
              "      height: 32px;\n",
              "      padding: 0 0 0 0;\n",
              "      width: 32px;\n",
              "    }\n",
              "\n",
              "    .colab-df-convert:hover {\n",
              "      background-color: #E2EBFA;\n",
              "      box-shadow: 0px 1px 2px rgba(60, 64, 67, 0.3), 0px 1px 3px 1px rgba(60, 64, 67, 0.15);\n",
              "      fill: #174EA6;\n",
              "    }\n",
              "\n",
              "    .colab-df-buttons div {\n",
              "      margin-bottom: 4px;\n",
              "    }\n",
              "\n",
              "    [theme=dark] .colab-df-convert {\n",
              "      background-color: #3B4455;\n",
              "      fill: #D2E3FC;\n",
              "    }\n",
              "\n",
              "    [theme=dark] .colab-df-convert:hover {\n",
              "      background-color: #434B5C;\n",
              "      box-shadow: 0px 1px 3px 1px rgba(0, 0, 0, 0.15);\n",
              "      filter: drop-shadow(0px 1px 2px rgba(0, 0, 0, 0.3));\n",
              "      fill: #FFFFFF;\n",
              "    }\n",
              "  </style>\n",
              "\n",
              "    <script>\n",
              "      const buttonEl =\n",
              "        document.querySelector('#df-75d9d1b6-54b9-4be9-a826-317424e47538 button.colab-df-convert');\n",
              "      buttonEl.style.display =\n",
              "        google.colab.kernel.accessAllowed ? 'block' : 'none';\n",
              "\n",
              "      async function convertToInteractive(key) {\n",
              "        const element = document.querySelector('#df-75d9d1b6-54b9-4be9-a826-317424e47538');\n",
              "        const dataTable =\n",
              "          await google.colab.kernel.invokeFunction('convertToInteractive',\n",
              "                                                    [key], {});\n",
              "        if (!dataTable) return;\n",
              "\n",
              "        const docLinkHtml = 'Like what you see? Visit the ' +\n",
              "          '<a target=\"_blank\" href=https://colab.research.google.com/notebooks/data_table.ipynb>data table notebook</a>'\n",
              "          + ' to learn more about interactive tables.';\n",
              "        element.innerHTML = '';\n",
              "        dataTable['output_type'] = 'display_data';\n",
              "        await google.colab.output.renderOutput(dataTable, element);\n",
              "        const docLink = document.createElement('div');\n",
              "        docLink.innerHTML = docLinkHtml;\n",
              "        element.appendChild(docLink);\n",
              "      }\n",
              "    </script>\n",
              "  </div>\n",
              "\n",
              "\n",
              "<div id=\"df-7f9bbaa9-cb83-4f82-80ff-43e921d1462f\">\n",
              "  <button class=\"colab-df-quickchart\" onclick=\"quickchart('df-7f9bbaa9-cb83-4f82-80ff-43e921d1462f')\"\n",
              "            title=\"Suggest charts\"\n",
              "            style=\"display:none;\">\n",
              "\n",
              "<svg xmlns=\"http://www.w3.org/2000/svg\" height=\"24px\"viewBox=\"0 0 24 24\"\n",
              "     width=\"24px\">\n",
              "    <g>\n",
              "        <path d=\"M19 3H5c-1.1 0-2 .9-2 2v14c0 1.1.9 2 2 2h14c1.1 0 2-.9 2-2V5c0-1.1-.9-2-2-2zM9 17H7v-7h2v7zm4 0h-2V7h2v10zm4 0h-2v-4h2v4z\"/>\n",
              "    </g>\n",
              "</svg>\n",
              "  </button>\n",
              "\n",
              "<style>\n",
              "  .colab-df-quickchart {\n",
              "      --bg-color: #E8F0FE;\n",
              "      --fill-color: #1967D2;\n",
              "      --hover-bg-color: #E2EBFA;\n",
              "      --hover-fill-color: #174EA6;\n",
              "      --disabled-fill-color: #AAA;\n",
              "      --disabled-bg-color: #DDD;\n",
              "  }\n",
              "\n",
              "  [theme=dark] .colab-df-quickchart {\n",
              "      --bg-color: #3B4455;\n",
              "      --fill-color: #D2E3FC;\n",
              "      --hover-bg-color: #434B5C;\n",
              "      --hover-fill-color: #FFFFFF;\n",
              "      --disabled-bg-color: #3B4455;\n",
              "      --disabled-fill-color: #666;\n",
              "  }\n",
              "\n",
              "  .colab-df-quickchart {\n",
              "    background-color: var(--bg-color);\n",
              "    border: none;\n",
              "    border-radius: 50%;\n",
              "    cursor: pointer;\n",
              "    display: none;\n",
              "    fill: var(--fill-color);\n",
              "    height: 32px;\n",
              "    padding: 0;\n",
              "    width: 32px;\n",
              "  }\n",
              "\n",
              "  .colab-df-quickchart:hover {\n",
              "    background-color: var(--hover-bg-color);\n",
              "    box-shadow: 0 1px 2px rgba(60, 64, 67, 0.3), 0 1px 3px 1px rgba(60, 64, 67, 0.15);\n",
              "    fill: var(--button-hover-fill-color);\n",
              "  }\n",
              "\n",
              "  .colab-df-quickchart-complete:disabled,\n",
              "  .colab-df-quickchart-complete:disabled:hover {\n",
              "    background-color: var(--disabled-bg-color);\n",
              "    fill: var(--disabled-fill-color);\n",
              "    box-shadow: none;\n",
              "  }\n",
              "\n",
              "  .colab-df-spinner {\n",
              "    border: 2px solid var(--fill-color);\n",
              "    border-color: transparent;\n",
              "    border-bottom-color: var(--fill-color);\n",
              "    animation:\n",
              "      spin 1s steps(1) infinite;\n",
              "  }\n",
              "\n",
              "  @keyframes spin {\n",
              "    0% {\n",
              "      border-color: transparent;\n",
              "      border-bottom-color: var(--fill-color);\n",
              "      border-left-color: var(--fill-color);\n",
              "    }\n",
              "    20% {\n",
              "      border-color: transparent;\n",
              "      border-left-color: var(--fill-color);\n",
              "      border-top-color: var(--fill-color);\n",
              "    }\n",
              "    30% {\n",
              "      border-color: transparent;\n",
              "      border-left-color: var(--fill-color);\n",
              "      border-top-color: var(--fill-color);\n",
              "      border-right-color: var(--fill-color);\n",
              "    }\n",
              "    40% {\n",
              "      border-color: transparent;\n",
              "      border-right-color: var(--fill-color);\n",
              "      border-top-color: var(--fill-color);\n",
              "    }\n",
              "    60% {\n",
              "      border-color: transparent;\n",
              "      border-right-color: var(--fill-color);\n",
              "    }\n",
              "    80% {\n",
              "      border-color: transparent;\n",
              "      border-right-color: var(--fill-color);\n",
              "      border-bottom-color: var(--fill-color);\n",
              "    }\n",
              "    90% {\n",
              "      border-color: transparent;\n",
              "      border-bottom-color: var(--fill-color);\n",
              "    }\n",
              "  }\n",
              "</style>\n",
              "\n",
              "  <script>\n",
              "    async function quickchart(key) {\n",
              "      const quickchartButtonEl =\n",
              "        document.querySelector('#' + key + ' button');\n",
              "      quickchartButtonEl.disabled = true;  // To prevent multiple clicks.\n",
              "      quickchartButtonEl.classList.add('colab-df-spinner');\n",
              "      try {\n",
              "        const charts = await google.colab.kernel.invokeFunction(\n",
              "            'suggestCharts', [key], {});\n",
              "      } catch (error) {\n",
              "        console.error('Error during call to suggestCharts:', error);\n",
              "      }\n",
              "      quickchartButtonEl.classList.remove('colab-df-spinner');\n",
              "      quickchartButtonEl.classList.add('colab-df-quickchart-complete');\n",
              "    }\n",
              "    (() => {\n",
              "      let quickchartButtonEl =\n",
              "        document.querySelector('#df-7f9bbaa9-cb83-4f82-80ff-43e921d1462f button');\n",
              "      quickchartButtonEl.style.display =\n",
              "        google.colab.kernel.accessAllowed ? 'block' : 'none';\n",
              "    })();\n",
              "  </script>\n",
              "</div>\n",
              "\n",
              "    </div>\n",
              "  </div>\n"
            ],
            "application/vnd.google.colaboratory.intrinsic+json": {
              "type": "dataframe",
              "variable_name": "train_data"
            }
          },
          "metadata": {},
          "execution_count": 61
        }
      ]
    },
    {
      "cell_type": "code",
      "source": [
        "test_data = pd.read_csv(\"/content/test (1).csv\")\n",
        "test_data.head()"
      ],
      "metadata": {
        "colab": {
          "base_uri": "https://localhost:8080/",
          "height": 256
        },
        "id": "_aMmHaNZ2U_P",
        "outputId": "1535378d-dfe3-4dab-a2f1-578d424035fd"
      },
      "execution_count": 62,
      "outputs": [
        {
          "output_type": "execute_result",
          "data": {
            "text/plain": [
              "     Id  MSSubClass MSZoning  LotFrontage  LotArea Street Alley LotShape  \\\n",
              "0  1461          20       RH         80.0    11622   Pave   NaN      Reg   \n",
              "1  1462          20       RL         81.0    14267   Pave   NaN      IR1   \n",
              "2  1463          60       RL         74.0    13830   Pave   NaN      IR1   \n",
              "3  1464          60       RL         78.0     9978   Pave   NaN      IR1   \n",
              "4  1465         120       RL         43.0     5005   Pave   NaN      IR1   \n",
              "\n",
              "  LandContour Utilities  ... ScreenPorch PoolArea PoolQC  Fence MiscFeature  \\\n",
              "0         Lvl    AllPub  ...         120        0    NaN  MnPrv         NaN   \n",
              "1         Lvl    AllPub  ...           0        0    NaN    NaN        Gar2   \n",
              "2         Lvl    AllPub  ...           0        0    NaN  MnPrv         NaN   \n",
              "3         Lvl    AllPub  ...           0        0    NaN    NaN         NaN   \n",
              "4         HLS    AllPub  ...         144        0    NaN    NaN         NaN   \n",
              "\n",
              "  MiscVal MoSold  YrSold  SaleType  SaleCondition  \n",
              "0       0      6    2010        WD         Normal  \n",
              "1   12500      6    2010        WD         Normal  \n",
              "2       0      3    2010        WD         Normal  \n",
              "3       0      6    2010        WD         Normal  \n",
              "4       0      1    2010        WD         Normal  \n",
              "\n",
              "[5 rows x 80 columns]"
            ],
            "text/html": [
              "\n",
              "  <div id=\"df-51d2d4de-faa7-489a-8cdc-622671591c0f\" class=\"colab-df-container\">\n",
              "    <div>\n",
              "<style scoped>\n",
              "    .dataframe tbody tr th:only-of-type {\n",
              "        vertical-align: middle;\n",
              "    }\n",
              "\n",
              "    .dataframe tbody tr th {\n",
              "        vertical-align: top;\n",
              "    }\n",
              "\n",
              "    .dataframe thead th {\n",
              "        text-align: right;\n",
              "    }\n",
              "</style>\n",
              "<table border=\"1\" class=\"dataframe\">\n",
              "  <thead>\n",
              "    <tr style=\"text-align: right;\">\n",
              "      <th></th>\n",
              "      <th>Id</th>\n",
              "      <th>MSSubClass</th>\n",
              "      <th>MSZoning</th>\n",
              "      <th>LotFrontage</th>\n",
              "      <th>LotArea</th>\n",
              "      <th>Street</th>\n",
              "      <th>Alley</th>\n",
              "      <th>LotShape</th>\n",
              "      <th>LandContour</th>\n",
              "      <th>Utilities</th>\n",
              "      <th>...</th>\n",
              "      <th>ScreenPorch</th>\n",
              "      <th>PoolArea</th>\n",
              "      <th>PoolQC</th>\n",
              "      <th>Fence</th>\n",
              "      <th>MiscFeature</th>\n",
              "      <th>MiscVal</th>\n",
              "      <th>MoSold</th>\n",
              "      <th>YrSold</th>\n",
              "      <th>SaleType</th>\n",
              "      <th>SaleCondition</th>\n",
              "    </tr>\n",
              "  </thead>\n",
              "  <tbody>\n",
              "    <tr>\n",
              "      <th>0</th>\n",
              "      <td>1461</td>\n",
              "      <td>20</td>\n",
              "      <td>RH</td>\n",
              "      <td>80.0</td>\n",
              "      <td>11622</td>\n",
              "      <td>Pave</td>\n",
              "      <td>NaN</td>\n",
              "      <td>Reg</td>\n",
              "      <td>Lvl</td>\n",
              "      <td>AllPub</td>\n",
              "      <td>...</td>\n",
              "      <td>120</td>\n",
              "      <td>0</td>\n",
              "      <td>NaN</td>\n",
              "      <td>MnPrv</td>\n",
              "      <td>NaN</td>\n",
              "      <td>0</td>\n",
              "      <td>6</td>\n",
              "      <td>2010</td>\n",
              "      <td>WD</td>\n",
              "      <td>Normal</td>\n",
              "    </tr>\n",
              "    <tr>\n",
              "      <th>1</th>\n",
              "      <td>1462</td>\n",
              "      <td>20</td>\n",
              "      <td>RL</td>\n",
              "      <td>81.0</td>\n",
              "      <td>14267</td>\n",
              "      <td>Pave</td>\n",
              "      <td>NaN</td>\n",
              "      <td>IR1</td>\n",
              "      <td>Lvl</td>\n",
              "      <td>AllPub</td>\n",
              "      <td>...</td>\n",
              "      <td>0</td>\n",
              "      <td>0</td>\n",
              "      <td>NaN</td>\n",
              "      <td>NaN</td>\n",
              "      <td>Gar2</td>\n",
              "      <td>12500</td>\n",
              "      <td>6</td>\n",
              "      <td>2010</td>\n",
              "      <td>WD</td>\n",
              "      <td>Normal</td>\n",
              "    </tr>\n",
              "    <tr>\n",
              "      <th>2</th>\n",
              "      <td>1463</td>\n",
              "      <td>60</td>\n",
              "      <td>RL</td>\n",
              "      <td>74.0</td>\n",
              "      <td>13830</td>\n",
              "      <td>Pave</td>\n",
              "      <td>NaN</td>\n",
              "      <td>IR1</td>\n",
              "      <td>Lvl</td>\n",
              "      <td>AllPub</td>\n",
              "      <td>...</td>\n",
              "      <td>0</td>\n",
              "      <td>0</td>\n",
              "      <td>NaN</td>\n",
              "      <td>MnPrv</td>\n",
              "      <td>NaN</td>\n",
              "      <td>0</td>\n",
              "      <td>3</td>\n",
              "      <td>2010</td>\n",
              "      <td>WD</td>\n",
              "      <td>Normal</td>\n",
              "    </tr>\n",
              "    <tr>\n",
              "      <th>3</th>\n",
              "      <td>1464</td>\n",
              "      <td>60</td>\n",
              "      <td>RL</td>\n",
              "      <td>78.0</td>\n",
              "      <td>9978</td>\n",
              "      <td>Pave</td>\n",
              "      <td>NaN</td>\n",
              "      <td>IR1</td>\n",
              "      <td>Lvl</td>\n",
              "      <td>AllPub</td>\n",
              "      <td>...</td>\n",
              "      <td>0</td>\n",
              "      <td>0</td>\n",
              "      <td>NaN</td>\n",
              "      <td>NaN</td>\n",
              "      <td>NaN</td>\n",
              "      <td>0</td>\n",
              "      <td>6</td>\n",
              "      <td>2010</td>\n",
              "      <td>WD</td>\n",
              "      <td>Normal</td>\n",
              "    </tr>\n",
              "    <tr>\n",
              "      <th>4</th>\n",
              "      <td>1465</td>\n",
              "      <td>120</td>\n",
              "      <td>RL</td>\n",
              "      <td>43.0</td>\n",
              "      <td>5005</td>\n",
              "      <td>Pave</td>\n",
              "      <td>NaN</td>\n",
              "      <td>IR1</td>\n",
              "      <td>HLS</td>\n",
              "      <td>AllPub</td>\n",
              "      <td>...</td>\n",
              "      <td>144</td>\n",
              "      <td>0</td>\n",
              "      <td>NaN</td>\n",
              "      <td>NaN</td>\n",
              "      <td>NaN</td>\n",
              "      <td>0</td>\n",
              "      <td>1</td>\n",
              "      <td>2010</td>\n",
              "      <td>WD</td>\n",
              "      <td>Normal</td>\n",
              "    </tr>\n",
              "  </tbody>\n",
              "</table>\n",
              "<p>5 rows × 80 columns</p>\n",
              "</div>\n",
              "    <div class=\"colab-df-buttons\">\n",
              "\n",
              "  <div class=\"colab-df-container\">\n",
              "    <button class=\"colab-df-convert\" onclick=\"convertToInteractive('df-51d2d4de-faa7-489a-8cdc-622671591c0f')\"\n",
              "            title=\"Convert this dataframe to an interactive table.\"\n",
              "            style=\"display:none;\">\n",
              "\n",
              "  <svg xmlns=\"http://www.w3.org/2000/svg\" height=\"24px\" viewBox=\"0 -960 960 960\">\n",
              "    <path d=\"M120-120v-720h720v720H120Zm60-500h600v-160H180v160Zm220 220h160v-160H400v160Zm0 220h160v-160H400v160ZM180-400h160v-160H180v160Zm440 0h160v-160H620v160ZM180-180h160v-160H180v160Zm440 0h160v-160H620v160Z\"/>\n",
              "  </svg>\n",
              "    </button>\n",
              "\n",
              "  <style>\n",
              "    .colab-df-container {\n",
              "      display:flex;\n",
              "      gap: 12px;\n",
              "    }\n",
              "\n",
              "    .colab-df-convert {\n",
              "      background-color: #E8F0FE;\n",
              "      border: none;\n",
              "      border-radius: 50%;\n",
              "      cursor: pointer;\n",
              "      display: none;\n",
              "      fill: #1967D2;\n",
              "      height: 32px;\n",
              "      padding: 0 0 0 0;\n",
              "      width: 32px;\n",
              "    }\n",
              "\n",
              "    .colab-df-convert:hover {\n",
              "      background-color: #E2EBFA;\n",
              "      box-shadow: 0px 1px 2px rgba(60, 64, 67, 0.3), 0px 1px 3px 1px rgba(60, 64, 67, 0.15);\n",
              "      fill: #174EA6;\n",
              "    }\n",
              "\n",
              "    .colab-df-buttons div {\n",
              "      margin-bottom: 4px;\n",
              "    }\n",
              "\n",
              "    [theme=dark] .colab-df-convert {\n",
              "      background-color: #3B4455;\n",
              "      fill: #D2E3FC;\n",
              "    }\n",
              "\n",
              "    [theme=dark] .colab-df-convert:hover {\n",
              "      background-color: #434B5C;\n",
              "      box-shadow: 0px 1px 3px 1px rgba(0, 0, 0, 0.15);\n",
              "      filter: drop-shadow(0px 1px 2px rgba(0, 0, 0, 0.3));\n",
              "      fill: #FFFFFF;\n",
              "    }\n",
              "  </style>\n",
              "\n",
              "    <script>\n",
              "      const buttonEl =\n",
              "        document.querySelector('#df-51d2d4de-faa7-489a-8cdc-622671591c0f button.colab-df-convert');\n",
              "      buttonEl.style.display =\n",
              "        google.colab.kernel.accessAllowed ? 'block' : 'none';\n",
              "\n",
              "      async function convertToInteractive(key) {\n",
              "        const element = document.querySelector('#df-51d2d4de-faa7-489a-8cdc-622671591c0f');\n",
              "        const dataTable =\n",
              "          await google.colab.kernel.invokeFunction('convertToInteractive',\n",
              "                                                    [key], {});\n",
              "        if (!dataTable) return;\n",
              "\n",
              "        const docLinkHtml = 'Like what you see? Visit the ' +\n",
              "          '<a target=\"_blank\" href=https://colab.research.google.com/notebooks/data_table.ipynb>data table notebook</a>'\n",
              "          + ' to learn more about interactive tables.';\n",
              "        element.innerHTML = '';\n",
              "        dataTable['output_type'] = 'display_data';\n",
              "        await google.colab.output.renderOutput(dataTable, element);\n",
              "        const docLink = document.createElement('div');\n",
              "        docLink.innerHTML = docLinkHtml;\n",
              "        element.appendChild(docLink);\n",
              "      }\n",
              "    </script>\n",
              "  </div>\n",
              "\n",
              "\n",
              "<div id=\"df-8c35c3e3-4730-4bd4-b0c0-9d80f2ff6639\">\n",
              "  <button class=\"colab-df-quickchart\" onclick=\"quickchart('df-8c35c3e3-4730-4bd4-b0c0-9d80f2ff6639')\"\n",
              "            title=\"Suggest charts\"\n",
              "            style=\"display:none;\">\n",
              "\n",
              "<svg xmlns=\"http://www.w3.org/2000/svg\" height=\"24px\"viewBox=\"0 0 24 24\"\n",
              "     width=\"24px\">\n",
              "    <g>\n",
              "        <path d=\"M19 3H5c-1.1 0-2 .9-2 2v14c0 1.1.9 2 2 2h14c1.1 0 2-.9 2-2V5c0-1.1-.9-2-2-2zM9 17H7v-7h2v7zm4 0h-2V7h2v10zm4 0h-2v-4h2v4z\"/>\n",
              "    </g>\n",
              "</svg>\n",
              "  </button>\n",
              "\n",
              "<style>\n",
              "  .colab-df-quickchart {\n",
              "      --bg-color: #E8F0FE;\n",
              "      --fill-color: #1967D2;\n",
              "      --hover-bg-color: #E2EBFA;\n",
              "      --hover-fill-color: #174EA6;\n",
              "      --disabled-fill-color: #AAA;\n",
              "      --disabled-bg-color: #DDD;\n",
              "  }\n",
              "\n",
              "  [theme=dark] .colab-df-quickchart {\n",
              "      --bg-color: #3B4455;\n",
              "      --fill-color: #D2E3FC;\n",
              "      --hover-bg-color: #434B5C;\n",
              "      --hover-fill-color: #FFFFFF;\n",
              "      --disabled-bg-color: #3B4455;\n",
              "      --disabled-fill-color: #666;\n",
              "  }\n",
              "\n",
              "  .colab-df-quickchart {\n",
              "    background-color: var(--bg-color);\n",
              "    border: none;\n",
              "    border-radius: 50%;\n",
              "    cursor: pointer;\n",
              "    display: none;\n",
              "    fill: var(--fill-color);\n",
              "    height: 32px;\n",
              "    padding: 0;\n",
              "    width: 32px;\n",
              "  }\n",
              "\n",
              "  .colab-df-quickchart:hover {\n",
              "    background-color: var(--hover-bg-color);\n",
              "    box-shadow: 0 1px 2px rgba(60, 64, 67, 0.3), 0 1px 3px 1px rgba(60, 64, 67, 0.15);\n",
              "    fill: var(--button-hover-fill-color);\n",
              "  }\n",
              "\n",
              "  .colab-df-quickchart-complete:disabled,\n",
              "  .colab-df-quickchart-complete:disabled:hover {\n",
              "    background-color: var(--disabled-bg-color);\n",
              "    fill: var(--disabled-fill-color);\n",
              "    box-shadow: none;\n",
              "  }\n",
              "\n",
              "  .colab-df-spinner {\n",
              "    border: 2px solid var(--fill-color);\n",
              "    border-color: transparent;\n",
              "    border-bottom-color: var(--fill-color);\n",
              "    animation:\n",
              "      spin 1s steps(1) infinite;\n",
              "  }\n",
              "\n",
              "  @keyframes spin {\n",
              "    0% {\n",
              "      border-color: transparent;\n",
              "      border-bottom-color: var(--fill-color);\n",
              "      border-left-color: var(--fill-color);\n",
              "    }\n",
              "    20% {\n",
              "      border-color: transparent;\n",
              "      border-left-color: var(--fill-color);\n",
              "      border-top-color: var(--fill-color);\n",
              "    }\n",
              "    30% {\n",
              "      border-color: transparent;\n",
              "      border-left-color: var(--fill-color);\n",
              "      border-top-color: var(--fill-color);\n",
              "      border-right-color: var(--fill-color);\n",
              "    }\n",
              "    40% {\n",
              "      border-color: transparent;\n",
              "      border-right-color: var(--fill-color);\n",
              "      border-top-color: var(--fill-color);\n",
              "    }\n",
              "    60% {\n",
              "      border-color: transparent;\n",
              "      border-right-color: var(--fill-color);\n",
              "    }\n",
              "    80% {\n",
              "      border-color: transparent;\n",
              "      border-right-color: var(--fill-color);\n",
              "      border-bottom-color: var(--fill-color);\n",
              "    }\n",
              "    90% {\n",
              "      border-color: transparent;\n",
              "      border-bottom-color: var(--fill-color);\n",
              "    }\n",
              "  }\n",
              "</style>\n",
              "\n",
              "  <script>\n",
              "    async function quickchart(key) {\n",
              "      const quickchartButtonEl =\n",
              "        document.querySelector('#' + key + ' button');\n",
              "      quickchartButtonEl.disabled = true;  // To prevent multiple clicks.\n",
              "      quickchartButtonEl.classList.add('colab-df-spinner');\n",
              "      try {\n",
              "        const charts = await google.colab.kernel.invokeFunction(\n",
              "            'suggestCharts', [key], {});\n",
              "      } catch (error) {\n",
              "        console.error('Error during call to suggestCharts:', error);\n",
              "      }\n",
              "      quickchartButtonEl.classList.remove('colab-df-spinner');\n",
              "      quickchartButtonEl.classList.add('colab-df-quickchart-complete');\n",
              "    }\n",
              "    (() => {\n",
              "      let quickchartButtonEl =\n",
              "        document.querySelector('#df-8c35c3e3-4730-4bd4-b0c0-9d80f2ff6639 button');\n",
              "      quickchartButtonEl.style.display =\n",
              "        google.colab.kernel.accessAllowed ? 'block' : 'none';\n",
              "    })();\n",
              "  </script>\n",
              "</div>\n",
              "\n",
              "    </div>\n",
              "  </div>\n"
            ],
            "application/vnd.google.colaboratory.intrinsic+json": {
              "type": "dataframe",
              "variable_name": "test_data"
            }
          },
          "metadata": {},
          "execution_count": 62
        }
      ]
    },
    {
      "cell_type": "code",
      "source": [
        "# Load dataset\n",
        "df = pd.read_csv(\"/content/train (1).csv\")\n",
        "df1 = pd.read_csv(\"/content/test (1).csv\")\n",
        "\n",
        "# Identify feature types\n",
        "continuous_features = df.select_dtypes(include=['float64']).columns.tolist()\n",
        "categorical_features = df.select_dtypes(include=['object']).columns.tolist()\n",
        "numerical_features = df.select_dtypes(include=['int64']).columns.tolist()\n",
        "\n",
        "print(\"Continuous Features:\", continuous_features)\n",
        "print(\"Categorical Features:\", categorical_features)\n",
        "print(\"Numerical (Discrete) Features:\", numerical_features)\n"
      ],
      "metadata": {
        "colab": {
          "base_uri": "https://localhost:8080/"
        },
        "id": "6g9KjE1C2U9I",
        "outputId": "c174f672-edb7-4457-83bf-a90ae62efe50"
      },
      "execution_count": 63,
      "outputs": [
        {
          "output_type": "stream",
          "name": "stdout",
          "text": [
            "Continuous Features: ['LotFrontage', 'MasVnrArea', 'GarageYrBlt']\n",
            "Categorical Features: ['MSZoning', 'Street', 'Alley', 'LotShape', 'LandContour', 'Utilities', 'LotConfig', 'LandSlope', 'Neighborhood', 'Condition1', 'Condition2', 'BldgType', 'HouseStyle', 'RoofStyle', 'RoofMatl', 'Exterior1st', 'Exterior2nd', 'MasVnrType', 'ExterQual', 'ExterCond', 'Foundation', 'BsmtQual', 'BsmtCond', 'BsmtExposure', 'BsmtFinType1', 'BsmtFinType2', 'Heating', 'HeatingQC', 'CentralAir', 'Electrical', 'KitchenQual', 'Functional', 'FireplaceQu', 'GarageType', 'GarageFinish', 'GarageQual', 'GarageCond', 'PavedDrive', 'PoolQC', 'Fence', 'MiscFeature', 'SaleType', 'SaleCondition']\n",
            "Numerical (Discrete) Features: ['Id', 'MSSubClass', 'LotArea', 'OverallQual', 'OverallCond', 'YearBuilt', 'YearRemodAdd', 'BsmtFinSF1', 'BsmtFinSF2', 'BsmtUnfSF', 'TotalBsmtSF', '1stFlrSF', '2ndFlrSF', 'LowQualFinSF', 'GrLivArea', 'BsmtFullBath', 'BsmtHalfBath', 'FullBath', 'HalfBath', 'BedroomAbvGr', 'KitchenAbvGr', 'TotRmsAbvGrd', 'Fireplaces', 'GarageCars', 'GarageArea', 'WoodDeckSF', 'OpenPorchSF', 'EnclosedPorch', '3SsnPorch', 'ScreenPorch', 'PoolArea', 'MiscVal', 'MoSold', 'YrSold', 'SalePrice']\n"
          ]
        }
      ]
    },
    {
      "cell_type": "code",
      "source": [],
      "metadata": {
        "id": "AqNVsji2JD00"
      },
      "execution_count": null,
      "outputs": []
    },
    {
      "cell_type": "code",
      "source": [
        "df1 = pd.read_csv(\"/content/test (1).csv\")\n",
        "# Identify feature types\n",
        "continuous_features = df1.select_dtypes(include=['float64']).columns.tolist()\n",
        "categorical_features = df1.select_dtypes(include=['object']).columns.tolist()\n",
        "numerical_features = df1.select_dtypes(include=['int64']).columns.tolist()\n",
        "\n",
        "print(\"Continuous Features:\", continuous_features)\n",
        "print(\"Categorical Features:\", categorical_features)\n",
        "print(\"Numerical (Discrete) Features:\", numerical_features)"
      ],
      "metadata": {
        "colab": {
          "base_uri": "https://localhost:8080/"
        },
        "id": "ZYdzEUxoJBmc",
        "outputId": "2effeb18-d1dd-48cf-e355-5460012429ff"
      },
      "execution_count": 64,
      "outputs": [
        {
          "output_type": "stream",
          "name": "stdout",
          "text": [
            "Continuous Features: ['LotFrontage', 'MasVnrArea', 'BsmtFinSF1', 'BsmtFinSF2', 'BsmtUnfSF', 'TotalBsmtSF', 'BsmtFullBath', 'BsmtHalfBath', 'GarageYrBlt', 'GarageCars', 'GarageArea']\n",
            "Categorical Features: ['MSZoning', 'Street', 'Alley', 'LotShape', 'LandContour', 'Utilities', 'LotConfig', 'LandSlope', 'Neighborhood', 'Condition1', 'Condition2', 'BldgType', 'HouseStyle', 'RoofStyle', 'RoofMatl', 'Exterior1st', 'Exterior2nd', 'MasVnrType', 'ExterQual', 'ExterCond', 'Foundation', 'BsmtQual', 'BsmtCond', 'BsmtExposure', 'BsmtFinType1', 'BsmtFinType2', 'Heating', 'HeatingQC', 'CentralAir', 'Electrical', 'KitchenQual', 'Functional', 'FireplaceQu', 'GarageType', 'GarageFinish', 'GarageQual', 'GarageCond', 'PavedDrive', 'PoolQC', 'Fence', 'MiscFeature', 'SaleType', 'SaleCondition']\n",
            "Numerical (Discrete) Features: ['Id', 'MSSubClass', 'LotArea', 'OverallQual', 'OverallCond', 'YearBuilt', 'YearRemodAdd', '1stFlrSF', '2ndFlrSF', 'LowQualFinSF', 'GrLivArea', 'FullBath', 'HalfBath', 'BedroomAbvGr', 'KitchenAbvGr', 'TotRmsAbvGrd', 'Fireplaces', 'WoodDeckSF', 'OpenPorchSF', 'EnclosedPorch', '3SsnPorch', 'ScreenPorch', 'PoolArea', 'MiscVal', 'MoSold', 'YrSold']\n"
          ]
        }
      ]
    },
    {
      "cell_type": "code",
      "source": [
        "from sklearn.impute import SimpleImputer\n",
        "\n",
        "\n",
        "\n",
        "# Define feature categories based on your list\n",
        "continuous_features = ['LotFrontage', 'MasVnrArea', 'GarageYrBlt']\n",
        "categorical_features = ['MSZoning', 'Street', 'Alley', 'LotShape', 'LandContour', 'Utilities', 'LotConfig', 'LandSlope',\n",
        "                        'Neighborhood', 'Condition1', 'Condition2', 'BldgType', 'HouseStyle', 'RoofStyle', 'RoofMatl',\n",
        "                        'Exterior1st', 'Exterior2nd', 'MasVnrType', 'ExterQual', 'ExterCond', 'Foundation', 'BsmtQual',\n",
        "                        'BsmtCond', 'BsmtExposure', 'BsmtFinType1', 'BsmtFinType2', 'Heating', 'HeatingQC', 'CentralAir',\n",
        "                        'Electrical', 'KitchenQual', 'Functional', 'FireplaceQu', 'GarageType', 'GarageFinish', 'GarageQual',\n",
        "                        'GarageCond', 'PavedDrive', 'PoolQC', 'Fence', 'MiscFeature', 'SaleType', 'SaleCondition']\n",
        "numerical_features = ['Id', 'MSSubClass', 'LotArea', 'OverallQual', 'OverallCond', 'YearBuilt', 'YearRemodAdd', 'BsmtFinSF1',\n",
        "                      'BsmtFinSF2', 'BsmtUnfSF', 'TotalBsmtSF', '1stFlrSF', '2ndFlrSF', 'LowQualFinSF', 'GrLivArea',\n",
        "                      'BsmtFullBath', 'BsmtHalfBath', 'FullBath', 'HalfBath', 'BedroomAbvGr', 'KitchenAbvGr',\n",
        "                      'TotRmsAbvGrd', 'Fireplaces', 'GarageCars', 'GarageArea', 'WoodDeckSF', 'OpenPorchSF',\n",
        "                      'EnclosedPorch', '3SsnPorch', 'ScreenPorch', 'PoolArea', 'MiscVal', 'MoSold', 'YrSold', 'SalePrice']\n",
        "\n",
        "# Step 1: Print missing values before imputation\n",
        "print(\"\\n🚀 Missing Values Before Imputation:\")\n",
        "print(df.isnull().sum())\n",
        "\n",
        "# Step 2: Define imputers\n",
        "continuous_imputer = SimpleImputer(strategy='mean')  # Use 'median' if preferred\n",
        "categorical_imputer = SimpleImputer(strategy='most_frequent')\n",
        "numerical_imputer = SimpleImputer(strategy='mean')\n",
        "\n",
        "# Step 3: Apply imputations\n",
        "df[continuous_features] = continuous_imputer.fit_transform(df[continuous_features])\n",
        "df[categorical_features] = categorical_imputer.fit_transform(df[categorical_features])\n",
        "df[numerical_features] = numerical_imputer.fit_transform(df[numerical_features])\n",
        "\n",
        "# Step 4: Print missing values after imputation\n",
        "print(\"\\n✅ Missing Values After Imputation:\")\n",
        "print(df.isnull().sum())"
      ],
      "metadata": {
        "colab": {
          "base_uri": "https://localhost:8080/"
        },
        "id": "tuAfHRR32U0y",
        "outputId": "1616099a-45d2-4937-b60a-587eb0867680"
      },
      "execution_count": 65,
      "outputs": [
        {
          "output_type": "stream",
          "name": "stdout",
          "text": [
            "\n",
            "🚀 Missing Values Before Imputation:\n",
            "Id                 0\n",
            "MSSubClass         0\n",
            "MSZoning           0\n",
            "LotFrontage      259\n",
            "LotArea            0\n",
            "                ... \n",
            "MoSold             0\n",
            "YrSold             0\n",
            "SaleType           0\n",
            "SaleCondition      0\n",
            "SalePrice          0\n",
            "Length: 81, dtype: int64\n",
            "\n",
            "✅ Missing Values After Imputation:\n",
            "Id               0\n",
            "MSSubClass       0\n",
            "MSZoning         0\n",
            "LotFrontage      0\n",
            "LotArea          0\n",
            "                ..\n",
            "MoSold           0\n",
            "YrSold           0\n",
            "SaleType         0\n",
            "SaleCondition    0\n",
            "SalePrice        0\n",
            "Length: 81, dtype: int64\n"
          ]
        }
      ]
    },
    {
      "cell_type": "code",
      "source": [
        "# Check unique values for categorical columns:\n",
        "for col in categorical_features:\n",
        "    print(f\"{col}: {df[col].unique()[:10]}\")  # Show first 10 unique values"
      ],
      "metadata": {
        "colab": {
          "base_uri": "https://localhost:8080/"
        },
        "id": "j9xR8tMf2UyL",
        "outputId": "e9c4e1d7-a7d6-4be8-af30-e002fe1bd05c"
      },
      "execution_count": 67,
      "outputs": [
        {
          "output_type": "stream",
          "name": "stdout",
          "text": [
            "MSZoning: ['RL' 'RM' 'C (all)' 'FV' 'RH']\n",
            "Street: ['Pave' 'Grvl']\n",
            "Alley: ['Grvl' 'Pave']\n",
            "LotShape: ['Reg' 'IR1' 'IR2' 'IR3']\n",
            "LandContour: ['Lvl' 'Bnk' 'Low' 'HLS']\n",
            "Utilities: ['AllPub' 'NoSeWa']\n",
            "LotConfig: ['Inside' 'FR2' 'Corner' 'CulDSac' 'FR3']\n",
            "LandSlope: ['Gtl' 'Mod' 'Sev']\n",
            "Neighborhood: ['CollgCr' 'Veenker' 'Crawfor' 'NoRidge' 'Mitchel' 'Somerst' 'NWAmes'\n",
            " 'OldTown' 'BrkSide' 'Sawyer']\n",
            "Condition1: ['Norm' 'Feedr' 'PosN' 'Artery' 'RRAe' 'RRNn' 'RRAn' 'PosA' 'RRNe']\n",
            "Condition2: ['Norm' 'Artery' 'RRNn' 'Feedr' 'PosN' 'PosA' 'RRAn' 'RRAe']\n",
            "BldgType: ['1Fam' '2fmCon' 'Duplex' 'TwnhsE' 'Twnhs']\n",
            "HouseStyle: ['2Story' '1Story' '1.5Fin' '1.5Unf' 'SFoyer' 'SLvl' '2.5Unf' '2.5Fin']\n",
            "RoofStyle: ['Gable' 'Hip' 'Gambrel' 'Mansard' 'Flat' 'Shed']\n",
            "RoofMatl: ['CompShg' 'WdShngl' 'Metal' 'WdShake' 'Membran' 'Tar&Grv' 'Roll'\n",
            " 'ClyTile']\n",
            "Exterior1st: ['VinylSd' 'MetalSd' 'Wd Sdng' 'HdBoard' 'BrkFace' 'WdShing' 'CemntBd'\n",
            " 'Plywood' 'AsbShng' 'Stucco']\n",
            "Exterior2nd: ['VinylSd' 'MetalSd' 'Wd Shng' 'HdBoard' 'Plywood' 'Wd Sdng' 'CmentBd'\n",
            " 'BrkFace' 'Stucco' 'AsbShng']\n",
            "MasVnrType: ['BrkFace' 'Stone' 'BrkCmn']\n",
            "Foundation: ['PConc' 'CBlock' 'BrkTil' 'Wood' 'Slab' 'Stone']\n",
            "Heating: ['GasA' 'GasW' 'Grav' 'Wall' 'OthW' 'Floor']\n",
            "CentralAir: ['Y' 'N']\n",
            "Electrical: ['SBrkr' 'FuseF' 'FuseA' 'FuseP' 'Mix']\n",
            "Functional: ['Typ' 'Min1' 'Maj1' 'Min2' 'Mod' 'Maj2' 'Sev']\n",
            "GarageType: ['Attchd' 'Detchd' 'BuiltIn' 'CarPort' 'Basment' '2Types']\n",
            "PavedDrive: ['Y' 'N' 'P']\n",
            "SaleType: ['WD' 'New' 'COD' 'ConLD' 'ConLI' 'CWD' 'ConLw' 'Con' 'Oth']\n",
            "SaleCondition: ['Normal' 'Abnorml' 'Partial' 'AdjLand' 'Alloca' 'Family']\n"
          ]
        }
      ]
    },
    {
      "cell_type": "markdown",
      "source": [
        "one-hot encoding is typically implemented using pd.get_dummies() in Pandas. However, there are other ways to achieve one-hot encoding, such as using sklearn.preprocessing.OneHotEncoder(). If you're not seeing pd.get_dummies() in the code, the encoding might be implemented using OneHotEncoder() or another approach.\n",
        "\n",
        "Different Ways to Perform One-Hot Encoding\n",
        "1. Using pd.get_dummies() (Pandas)"
      ],
      "metadata": {
        "id": "blD_x5-0MdBv"
      }
    },
    {
      "cell_type": "markdown",
      "source": [
        "encoding categorical features, you should consider the following strategies:\n",
        "\n",
        "1. One-Hot Encoding (OHE)\n",
        "Use for nominal (unordered) categorical variables.\n",
        "Creates separate binary columns for each category.\n",
        "Example: MSZoning → RL, RM, C (all), FV, RH → 5 binary columns.\n",
        "\n",
        "Ordinal Encoding\n",
        "Use for ordinal (ordered) categorical variables.\n",
        "Maps categories to numerical values based on hierarchy.\n",
        "\n",
        "ordinal encoding and binary encoding are different types of categorical encoding techniques.\n",
        "\n",
        "1. Ordinal Encoding\n",
        "Assigns integer values (0, 1, 2, …) based on an inherent order or ranking.\n",
        "Used when categories have a meaningful order (e.g., ExterQual: Ex > Gd > TA > Fa > Po).\n",
        "\n",
        "\n",
        "2. Binary Encoding\n",
        "Converts categorical values into binary representation and splits them into separate columns.\n",
        "Useful for high-cardinality (many unique categories) variables."
      ],
      "metadata": {
        "id": "pQO4Ym5pMc42"
      }
    },
    {
      "cell_type": "markdown",
      "source": [
        "Problem: TypeError: unhashable type: 'dict_keys'\n",
        "This error occurs because df[ordinal_features.keys()] tries to use a dict_keys object as an index, which is not directly compatible with Pandas.\n",
        "\n",
        "Solution: Convert dict_keys to a List\n",
        "\n",
        "df[ordinal_features.keys()] = ordinal_encoder.fit_transform(df[list(ordinal_features.keys())])\n",
        "\n",
        "Fix: Change .keys() to list(ordinal_features.keys())\n",
        "\n",
        "df[list(ordinal_features.keys())] = ordinal_encoder.fit_transform(df[list(ordinal_features.keys())])\n",
        "\n"
      ],
      "metadata": {
        "id": "Uge__AhEMcsf"
      }
    },
    {
      "cell_type": "markdown",
      "source": [
        "Key Fixes & Explanations\n",
        "Used list(ordinal_features.keys()) instead of ordinal_features.keys()\n",
        "\n",
        "dict_keys is not directly usable as a column index, so it needs to be converted to a list.\n",
        "Ensured sparse_output=False in OneHotEncoder\n",
        "\n",
        "If using Scikit-Learn 1.2+, sparse=False should be replaced with sparse_output=False."
      ],
      "metadata": {
        "id": "7JNSG-TxNltW"
      }
    },
    {
      "cell_type": "code",
      "source": [
        "from sklearn.compose import ColumnTransformer\n",
        "from sklearn.pipeline import Pipeline\n",
        "from sklearn.preprocessing import OneHotEncoder, StandardScaler, OrdinalEncoder\n",
        "import pandas as pd\n",
        "\n",
        "# Define transformations\n",
        "num_features = ['LotFrontage', 'MasVnrArea', 'GarageYrBlt']\n",
        "cat_features = ['MSZoning', 'Street', 'Alley', 'LotShape', 'LandContour', 'Utilities', 'LotConfig',\n",
        "                'LandSlope', 'Neighborhood', 'Condition1', 'Condition2', 'BldgType', 'HouseStyle',\n",
        "                'RoofStyle', 'RoofMatl', 'Exterior1st', 'Exterior2nd', 'MasVnrType', 'Foundation',\n",
        "                'Heating', 'CentralAir', 'Electrical', 'Functional', 'GarageType', 'PavedDrive',\n",
        "                'SaleType', 'SaleCondition']\n",
        "ordinal_features = ['ExterQual', 'ExterCond', 'BsmtQual', 'BsmtCond', 'BsmtExposure',\n",
        "                    'BsmtFinType1', 'BsmtFinType2', 'HeatingQC', 'KitchenQual', 'FireplaceQu',\n",
        "                    'GarageFinish', 'GarageQual', 'GarageCond', 'PoolQC', 'Fence']\n",
        "\n",
        "# Define ordinal mapping (example for ExterQual: Poor < Fair < Good < Excellent)\n",
        "ordinal_mapping = [\n",
        "    [\"Po\", \"Fa\", \"TA\", \"Gd\", \"Ex\"],  # ExterQual\n",
        "    [\"Po\", \"Fa\", \"TA\", \"Gd\", \"Ex\"],  # ExterCond\n",
        "    [\"NA\", \"Po\", \"Fa\", \"TA\", \"Gd\", \"Ex\"],  # BsmtQual\n",
        "    [\"NA\", \"Po\", \"Fa\", \"TA\", \"Gd\", \"Ex\"],  # BsmtCond\n",
        "    [\"NA\", \"No\", \"Mn\", \"Av\", \"Gd\"],  # BsmtExposure\n",
        "    [\"NA\", \"Unf\", \"LwQ\", \"Rec\", \"BLQ\", \"ALQ\", \"GLQ\"],  # BsmtFinType1\n",
        "    [\"NA\", \"Unf\", \"LwQ\", \"Rec\", \"BLQ\", \"ALQ\", \"GLQ\"],  # BsmtFinType2\n",
        "    [\"Po\", \"Fa\", \"TA\", \"Gd\", \"Ex\"],  # HeatingQC\n",
        "    [\"Po\", \"Fa\", \"TA\", \"Gd\", \"Ex\"],  # KitchenQual\n",
        "    [\"NA\", \"Po\", \"Fa\", \"TA\", \"Gd\", \"Ex\"],  # FireplaceQu\n",
        "    [\"NA\", \"Unf\", \"RFn\", \"Fin\"],  # GarageFinish\n",
        "    [\"NA\", \"Po\", \"Fa\", \"TA\", \"Gd\", \"Ex\"],  # GarageQual\n",
        "    [\"NA\", \"Po\", \"Fa\", \"TA\", \"Gd\", \"Ex\"],  # GarageCond\n",
        "    [\"NA\", \"Fa\", \"TA\", \"Gd\", \"Ex\"],  # PoolQC\n",
        "    [\"NA\", \"MnWw\", \"GdWo\", \"MnPrv\", \"GdPrv\"]  # Fence\n",
        "]\n",
        "\n",
        "# Define transformers\n",
        "num_transformer = StandardScaler()\n",
        "cat_transformer = OneHotEncoder(drop='first', handle_unknown='ignore')\n",
        "ord_transformer = OrdinalEncoder(categories=ordinal_mapping)\n",
        "\n",
        "# Combine all transformations\n",
        "preprocessor = ColumnTransformer([\n",
        "    ('num', num_transformer, num_features),\n",
        "    ('cat', cat_transformer, cat_features),\n",
        "    ('ord', ord_transformer, ordinal_features)\n",
        "])\n",
        "\n",
        "# Build pipeline\n",
        "pipeline = Pipeline([\n",
        "    ('preprocessor', preprocessor)\n",
        "])\n",
        "\n",
        "# Transform the data\n",
        "df_transformed_array = pipeline.fit_transform(df)\n",
        "\n",
        "# Convert to DataFrame\n",
        "df_transformed = pd.DataFrame(df_transformed_array)\n",
        "\n",
        "\n",
        "print(df_transformed.head())\n",
        "\n"
      ],
      "metadata": {
        "colab": {
          "base_uri": "https://localhost:8080/"
        },
        "id": "lHzJDCqJSFK2",
        "outputId": "1dee7114-09b8-408b-c6cb-e9aced1cc9ff"
      },
      "execution_count": 68,
      "outputs": [
        {
          "output_type": "stream",
          "name": "stdout",
          "text": [
            "                                                   0\n",
            "0    (0, 0)\\t-0.22937175311444924\\n  (0, 1)\\t0.51...\n",
            "1    (0, 0)\\t0.4519361005305317\\n  (0, 1)\\t-0.574...\n",
            "2    (0, 0)\\t-0.09311018238545306\\n  (0, 1)\\t0.32...\n",
            "3    (0, 0)\\t-0.45647437099610955\\n  (0, 1)\\t-0.5...\n",
            "4    (0, 0)\\t0.6336181948358599\\n  (0, 1)\\t1.3645...\n"
          ]
        }
      ]
    },
    {
      "cell_type": "code",
      "source": [
        "import pandas as pd\n",
        "from sklearn.impute import SimpleImputer\n",
        "\n",
        "# Load the test dataset (df1)\n",
        "df1 = pd.read_csv(\"/content/test (1).csv\")  # Replace with your actual test file path\n",
        "\n",
        "# Define feature categories\n",
        "continuous_features = ['LotFrontage', 'MasVnrArea', 'BsmtFinSF1', 'BsmtFinSF2', 'BsmtUnfSF', 'TotalBsmtSF',\n",
        "                       'BsmtFullBath', 'BsmtHalfBath', 'GarageYrBlt', 'GarageCars', 'GarageArea']\n",
        "\n",
        "categorical_features = ['MSZoning', 'Street', 'Alley', 'LotShape', 'LandContour', 'Utilities', 'LotConfig',\n",
        "                        'LandSlope', 'Neighborhood', 'Condition1', 'Condition2', 'BldgType', 'HouseStyle',\n",
        "                        'RoofStyle', 'RoofMatl', 'Exterior1st', 'Exterior2nd', 'MasVnrType', 'Foundation',\n",
        "                        'Heating', 'CentralAir', 'Electrical', 'Functional', 'GarageType', 'PavedDrive',\n",
        "                        'SaleType', 'SaleCondition']\n",
        "\n",
        "numerical_features = ['Id', 'MSSubClass', 'LotArea', 'OverallQual', 'OverallCond', 'YearBuilt',\n",
        "                      'YearRemodAdd', '1stFlrSF', '2ndFlrSF', 'LowQualFinSF', 'GrLivArea', 'FullBath',\n",
        "                      'HalfBath', 'BedroomAbvGr', 'KitchenAbvGr', 'TotRmsAbvGrd', 'Fireplaces',\n",
        "                      'WoodDeckSF', 'OpenPorchSF', 'EnclosedPorch', '3SsnPorch', 'ScreenPorch', 'PoolArea',\n",
        "                      'MiscVal', 'MoSold', 'YrSold']\n",
        "\n",
        "# Step 1: Print missing values before imputation\n",
        "print(\"\\n🚀 Missing Values Before Imputation:\")\n",
        "print(df1.isnull().sum())\n",
        "\n",
        "# Step 2: Define imputers\n",
        "continuous_imputer = SimpleImputer(strategy='mean')  # Fill missing continuous values with mean\n",
        "categorical_imputer = SimpleImputer(strategy='most_frequent')  # Fill missing categorical values with most frequent\n",
        "\n",
        "# Step 3: Apply imputations to categorical and continuous features\n",
        "df1[continuous_features] = continuous_imputer.fit_transform(df1[continuous_features])\n",
        "df1[categorical_features] = categorical_imputer.fit_transform(df1[categorical_features])\n",
        "\n",
        "# Step 4: Print missing values after imputation\n",
        "print(\"\\n✅ Missing Values After Imputation:\")\n",
        "print(df1.isnull().sum())\n",
        "\n",
        "\n"
      ],
      "metadata": {
        "colab": {
          "base_uri": "https://localhost:8080/"
        },
        "id": "kKtNXPZzSxK1",
        "outputId": "9a18887a-57da-49b8-b091-7beac424fa9f"
      },
      "execution_count": 72,
      "outputs": [
        {
          "output_type": "stream",
          "name": "stdout",
          "text": [
            "\n",
            "🚀 Missing Values Before Imputation:\n",
            "Id                 0\n",
            "MSSubClass         0\n",
            "MSZoning           4\n",
            "LotFrontage      227\n",
            "LotArea            0\n",
            "                ... \n",
            "MiscVal            0\n",
            "MoSold             0\n",
            "YrSold             0\n",
            "SaleType           1\n",
            "SaleCondition      0\n",
            "Length: 80, dtype: int64\n",
            "\n",
            "✅ Missing Values After Imputation:\n",
            "Id               0\n",
            "MSSubClass       0\n",
            "MSZoning         0\n",
            "LotFrontage      0\n",
            "LotArea          0\n",
            "                ..\n",
            "MiscVal          0\n",
            "MoSold           0\n",
            "YrSold           0\n",
            "SaleType         0\n",
            "SaleCondition    0\n",
            "Length: 80, dtype: int64\n"
          ]
        }
      ]
    },
    {
      "cell_type": "code",
      "source": [
        "# Check if any NaN values remain in categorical features after imputation\n",
        "print(\"NaN values in categorical features after imputation:\")\n",
        "print(df1[categorical_features].isnull().sum())\n"
      ],
      "metadata": {
        "colab": {
          "base_uri": "https://localhost:8080/"
        },
        "id": "ze0qVRTObMMl",
        "outputId": "84b9087b-1643-4c5d-e2c8-1be351768a73"
      },
      "execution_count": 73,
      "outputs": [
        {
          "output_type": "stream",
          "name": "stdout",
          "text": [
            "NaN values in categorical features after imputation:\n",
            "MSZoning         0\n",
            "Street           0\n",
            "Alley            0\n",
            "LotShape         0\n",
            "LandContour      0\n",
            "Utilities        0\n",
            "LotConfig        0\n",
            "LandSlope        0\n",
            "Neighborhood     0\n",
            "Condition1       0\n",
            "Condition2       0\n",
            "BldgType         0\n",
            "HouseStyle       0\n",
            "RoofStyle        0\n",
            "RoofMatl         0\n",
            "Exterior1st      0\n",
            "Exterior2nd      0\n",
            "MasVnrType       0\n",
            "Foundation       0\n",
            "Heating          0\n",
            "CentralAir       0\n",
            "Electrical       0\n",
            "Functional       0\n",
            "GarageType       0\n",
            "PavedDrive       0\n",
            "SaleType         0\n",
            "SaleCondition    0\n",
            "dtype: int64\n"
          ]
        }
      ]
    },
    {
      "cell_type": "code",
      "source": [
        "from sklearn.preprocessing import OrdinalEncoder\n",
        "\n",
        "# Initialize OrdinalEncoder with handling unknown categories (set unknown_value=-1)\n",
        "ordinal_encoder = OrdinalEncoder(handle_unknown='use_encoded_value', unknown_value=-1)\n",
        "\n",
        "# Apply ordinal encoding to categorical features\n",
        "df1[categorical_features] = ordinal_encoder.fit_transform(df1[categorical_features])\n",
        "\n",
        "# Check the encoded columns\n",
        "print(df1[categorical_features].head())\n"
      ],
      "metadata": {
        "colab": {
          "base_uri": "https://localhost:8080/"
        },
        "id": "EuOPKBbsbWcr",
        "outputId": "e73ab83e-8dc0-45cc-e345-5afce359fdab"
      },
      "execution_count": 74,
      "outputs": [
        {
          "output_type": "stream",
          "name": "stdout",
          "text": [
            "   MSZoning  Street  Alley  LotShape  LandContour  Utilities  LotConfig  \\\n",
            "0       2.0     1.0    0.0       3.0          3.0        0.0        4.0   \n",
            "1       3.0     1.0    0.0       0.0          3.0        0.0        0.0   \n",
            "2       3.0     1.0    0.0       0.0          3.0        0.0        4.0   \n",
            "3       3.0     1.0    0.0       0.0          3.0        0.0        4.0   \n",
            "4       3.0     1.0    0.0       0.0          1.0        0.0        4.0   \n",
            "\n",
            "   LandSlope  Neighborhood  Condition1  ...  MasVnrType  Foundation  Heating  \\\n",
            "0        0.0          12.0         1.0  ...         1.0         1.0      0.0   \n",
            "1        0.0          12.0         2.0  ...         1.0         1.0      0.0   \n",
            "2        0.0           8.0         2.0  ...         1.0         2.0      0.0   \n",
            "3        0.0           8.0         2.0  ...         1.0         2.0      0.0   \n",
            "4        0.0          22.0         2.0  ...         1.0         2.0      0.0   \n",
            "\n",
            "   CentralAir  Electrical  Functional  GarageType  PavedDrive  SaleType  \\\n",
            "0         1.0         3.0         6.0         1.0         2.0       8.0   \n",
            "1         1.0         3.0         6.0         1.0         2.0       8.0   \n",
            "2         1.0         3.0         6.0         1.0         2.0       8.0   \n",
            "3         1.0         3.0         6.0         1.0         2.0       8.0   \n",
            "4         1.0         3.0         6.0         1.0         2.0       8.0   \n",
            "\n",
            "   SaleCondition  \n",
            "0            4.0  \n",
            "1            4.0  \n",
            "2            4.0  \n",
            "3            4.0  \n",
            "4            4.0  \n",
            "\n",
            "[5 rows x 27 columns]\n"
          ]
        }
      ]
    },
    {
      "cell_type": "code",
      "source": [
        "# Check if any NaN values are present in the entire DataFrame\n",
        "print(\"Checking for any NaN values in the entire dataset:\")\n",
        "print(df1.isnull().sum())\n"
      ],
      "metadata": {
        "colab": {
          "base_uri": "https://localhost:8080/"
        },
        "id": "L93qjcFybs-3",
        "outputId": "46eac899-f0bf-4dc1-b183-f5cd975d6d41"
      },
      "execution_count": 75,
      "outputs": [
        {
          "output_type": "stream",
          "name": "stdout",
          "text": [
            "Checking for any NaN values in the entire dataset:\n",
            "Id               0\n",
            "MSSubClass       0\n",
            "MSZoning         0\n",
            "LotFrontage      0\n",
            "LotArea          0\n",
            "                ..\n",
            "MiscVal          0\n",
            "MoSold           0\n",
            "YrSold           0\n",
            "SaleType         0\n",
            "SaleCondition    0\n",
            "Length: 80, dtype: int64\n"
          ]
        }
      ]
    },
    {
      "cell_type": "code",
      "source": [
        "from sklearn.preprocessing import OrdinalEncoder\n",
        "\n",
        "# Initialize OrdinalEncoder with handling unknown categories\n",
        "ordinal_encoder = OrdinalEncoder(handle_unknown='use_encoded_value', unknown_value=-1)\n",
        "\n",
        "# Apply ordinal encoding to categorical features\n",
        "df1[categorical_features] = ordinal_encoder.fit_transform(df1[categorical_features])\n",
        "\n",
        "# Check the first few rows to confirm the encoding\n",
        "print(df1[categorical_features].head())\n"
      ],
      "metadata": {
        "colab": {
          "base_uri": "https://localhost:8080/"
        },
        "id": "zzLJ13xfbz0P",
        "outputId": "175351f5-0a01-4851-fcf7-d5d56c700df4"
      },
      "execution_count": 76,
      "outputs": [
        {
          "output_type": "stream",
          "name": "stdout",
          "text": [
            "   MSZoning  Street  Alley  LotShape  LandContour  Utilities  LotConfig  \\\n",
            "0       2.0     1.0    0.0       3.0          3.0        0.0        4.0   \n",
            "1       3.0     1.0    0.0       0.0          3.0        0.0        0.0   \n",
            "2       3.0     1.0    0.0       0.0          3.0        0.0        4.0   \n",
            "3       3.0     1.0    0.0       0.0          3.0        0.0        4.0   \n",
            "4       3.0     1.0    0.0       0.0          1.0        0.0        4.0   \n",
            "\n",
            "   LandSlope  Neighborhood  Condition1  ...  MasVnrType  Foundation  Heating  \\\n",
            "0        0.0          12.0         1.0  ...         1.0         1.0      0.0   \n",
            "1        0.0          12.0         2.0  ...         1.0         1.0      0.0   \n",
            "2        0.0           8.0         2.0  ...         1.0         2.0      0.0   \n",
            "3        0.0           8.0         2.0  ...         1.0         2.0      0.0   \n",
            "4        0.0          22.0         2.0  ...         1.0         2.0      0.0   \n",
            "\n",
            "   CentralAir  Electrical  Functional  GarageType  PavedDrive  SaleType  \\\n",
            "0         1.0         3.0         6.0         1.0         2.0       8.0   \n",
            "1         1.0         3.0         6.0         1.0         2.0       8.0   \n",
            "2         1.0         3.0         6.0         1.0         2.0       8.0   \n",
            "3         1.0         3.0         6.0         1.0         2.0       8.0   \n",
            "4         1.0         3.0         6.0         1.0         2.0       8.0   \n",
            "\n",
            "   SaleCondition  \n",
            "0            4.0  \n",
            "1            4.0  \n",
            "2            4.0  \n",
            "3            4.0  \n",
            "4            4.0  \n",
            "\n",
            "[5 rows x 27 columns]\n"
          ]
        }
      ]
    },
    {
      "cell_type": "code",
      "source": [
        "from sklearn.preprocessing import OneHotEncoder\n",
        "from sklearn.compose import ColumnTransformer\n",
        "from sklearn.pipeline import Pipeline\n",
        "from sklearn.impute import SimpleImputer\n",
        "import pandas as pd\n",
        "\n",
        "# Load the dataset (df1)\n",
        "df1 = pd.read_csv(\"/content/test (1).csv\")  # Replace with your actual test file path\n",
        "\n",
        "# Define feature categories\n",
        "continuous_features = ['LotFrontage', 'MasVnrArea', 'BsmtFinSF1', 'BsmtFinSF2', 'BsmtUnfSF', 'TotalBsmtSF',\n",
        "                       'BsmtFullBath', 'BsmtHalfBath', 'GarageYrBlt', 'GarageCars', 'GarageArea']\n",
        "\n",
        "categorical_features = ['MSZoning', 'Street', 'Alley', 'LotShape', 'LandContour', 'Utilities', 'LotConfig',\n",
        "                        'LandSlope', 'Neighborhood', 'Condition1', 'Condition2', 'BldgType', 'HouseStyle',\n",
        "                        'RoofStyle', 'RoofMatl', 'Exterior1st', 'Exterior2nd', 'MasVnrType', 'Foundation',\n",
        "                        'Heating', 'CentralAir', 'Electrical', 'Functional', 'GarageType', 'PavedDrive',\n",
        "                        'SaleType', 'SaleCondition']\n",
        "\n",
        "numerical_features = ['Id', 'MSSubClass', 'LotArea', 'OverallQual', 'OverallCond', 'YearBuilt',\n",
        "                      'YearRemodAdd', '1stFlrSF', '2ndFlrSF', 'LowQualFinSF', 'GrLivArea', 'FullBath',\n",
        "                      'HalfBath', 'BedroomAbvGr', 'KitchenAbvGr', 'TotRmsAbvGrd', 'Fireplaces',\n",
        "                      'WoodDeckSF', 'OpenPorchSF', 'EnclosedPorch', '3SsnPorch', 'ScreenPorch', 'PoolArea',\n",
        "                      'MiscVal', 'MoSold', 'YrSold']\n",
        "\n",
        "# Step 1: Impute Missing Values (if not done yet)\n",
        "# Define imputers\n",
        "continuous_imputer = SimpleImputer(strategy='mean')  # Fill missing continuous values with mean\n",
        "categorical_imputer = SimpleImputer(strategy='most_frequent')  # Fill missing categorical values with most frequent\n",
        "\n",
        "# Apply imputations (assuming you've already handled this earlier)\n",
        "df1[continuous_features] = continuous_imputer.fit_transform(df1[continuous_features])\n",
        "df1[categorical_features] = categorical_imputer.fit_transform(df1[categorical_features])\n",
        "df1[numerical_features] = continuous_imputer.fit_transform(df1[numerical_features])\n",
        "\n",
        "# Step 2: Encoding Process\n",
        "# Using ColumnTransformer to apply different transformers to different columns\n",
        "preprocessor = ColumnTransformer(\n",
        "    transformers=[\n",
        "        # For continuous features, we just use imputation (no encoding)\n",
        "        ('continuous', continuous_imputer, continuous_features),\n",
        "\n",
        "        # For categorical features, we use OneHotEncoder for nominal features (with handle_unknown='ignore')\n",
        "        ('categorical', OneHotEncoder(handle_unknown='ignore', sparse_output=False), categorical_features)\n",
        "    ])\n",
        "\n",
        "# Create a pipeline\n",
        "pipeline = Pipeline(steps=[\n",
        "    ('preprocessor', preprocessor)\n",
        "])\n",
        "\n",
        "# Step 3: Fit and Transform the Data using the Pipeline\n",
        "df1_transformed = pipeline.fit_transform(df1)\n",
        "\n",
        "# Convert to DataFrame for easier readability\n",
        "df1_transformed_df = pd.DataFrame(df1_transformed)\n",
        "\n",
        "# Display the transformed data\n",
        "print(df1_transformed_df.head())\n",
        "\n"
      ],
      "metadata": {
        "colab": {
          "base_uri": "https://localhost:8080/"
        },
        "id": "gmIOJ5mVcLMO",
        "outputId": "049b0ff7-259d-4d19-c059-cd0c2ce0437f"
      },
      "execution_count": 78,
      "outputs": [
        {
          "output_type": "stream",
          "name": "stdout",
          "text": [
            "    0      1      2      3       4       5    6    7       8    9    ...  166  \\\n",
            "0  80.0    0.0  468.0  144.0   270.0   882.0  0.0  0.0  1961.0  1.0  ...  0.0   \n",
            "1  81.0  108.0  923.0    0.0   406.0  1329.0  0.0  0.0  1958.0  1.0  ...  0.0   \n",
            "2  74.0    0.0  791.0    0.0   137.0   928.0  0.0  0.0  1997.0  2.0  ...  0.0   \n",
            "3  78.0   20.0  602.0    0.0   324.0   926.0  0.0  0.0  1998.0  2.0  ...  0.0   \n",
            "4  43.0    0.0  263.0    0.0  1017.0  1280.0  0.0  0.0  1992.0  2.0  ...  0.0   \n",
            "\n",
            "   167  168  169  170  171  172  173  174  175  \n",
            "0  0.0  0.0  1.0  0.0  0.0  0.0  0.0  1.0  0.0  \n",
            "1  0.0  0.0  1.0  0.0  0.0  0.0  0.0  1.0  0.0  \n",
            "2  0.0  0.0  1.0  0.0  0.0  0.0  0.0  1.0  0.0  \n",
            "3  0.0  0.0  1.0  0.0  0.0  0.0  0.0  1.0  0.0  \n",
            "4  0.0  0.0  1.0  0.0  0.0  0.0  0.0  1.0  0.0  \n",
            "\n",
            "[5 rows x 176 columns]\n"
          ]
        }
      ]
    },
    {
      "cell_type": "code",
      "source": [
        "df.drop(columns=['Id'], inplace=True)  # Drop 'Id' column\n",
        "target = df['SalePrice']  # Store 'SalePrice' in target variable\n",
        "df.drop(columns=['SalePrice'], inplace=True)  # Remove 'SalePrice' only from df\n",
        "\n",
        "# Now, print target statistics instead of df['SalePrice']\n",
        "print(target.describe())\n"
      ],
      "metadata": {
        "colab": {
          "base_uri": "https://localhost:8080/"
        },
        "id": "PtuQtW4w2UqK",
        "outputId": "c990c2da-48e2-4b8c-fff8-4ec751828235"
      },
      "execution_count": 79,
      "outputs": [
        {
          "output_type": "stream",
          "name": "stdout",
          "text": [
            "count      1460.000000\n",
            "mean     180921.195890\n",
            "std       79442.502883\n",
            "min       34900.000000\n",
            "25%      129975.000000\n",
            "50%      163000.000000\n",
            "75%      214000.000000\n",
            "max      755000.000000\n",
            "Name: SalePrice, dtype: float64\n"
          ]
        }
      ]
    },
    {
      "cell_type": "code",
      "source": [
        "print(df.describe())\n",
        "#check data description"
      ],
      "metadata": {
        "colab": {
          "base_uri": "https://localhost:8080/"
        },
        "id": "INv7lKiW2Unz",
        "outputId": "52bc8685-9d3c-43f8-86f8-5363c8d37272"
      },
      "execution_count": 80,
      "outputs": [
        {
          "output_type": "stream",
          "name": "stdout",
          "text": [
            "        MSSubClass  LotFrontage        LotArea  OverallQual  OverallCond  \\\n",
            "count  1460.000000  1460.000000    1460.000000  1460.000000  1460.000000   \n",
            "mean     56.897260    70.049958   10516.828082     6.099315     5.575342   \n",
            "std      42.300571    22.024023    9981.264932     1.382997     1.112799   \n",
            "min      20.000000    21.000000    1300.000000     1.000000     1.000000   \n",
            "25%      20.000000    60.000000    7553.500000     5.000000     5.000000   \n",
            "50%      50.000000    70.049958    9478.500000     6.000000     5.000000   \n",
            "75%      70.000000    79.000000   11601.500000     7.000000     6.000000   \n",
            "max     190.000000   313.000000  215245.000000    10.000000     9.000000   \n",
            "\n",
            "         YearBuilt  YearRemodAdd   MasVnrArea   BsmtFinSF1   BsmtFinSF2  ...  \\\n",
            "count  1460.000000   1460.000000  1460.000000  1460.000000  1460.000000  ...   \n",
            "mean   1971.267808   1984.865753   103.685262   443.639726    46.549315  ...   \n",
            "std      30.202904     20.645407   180.569112   456.098091   161.319273  ...   \n",
            "min    1872.000000   1950.000000     0.000000     0.000000     0.000000  ...   \n",
            "25%    1954.000000   1967.000000     0.000000     0.000000     0.000000  ...   \n",
            "50%    1973.000000   1994.000000     0.000000   383.500000     0.000000  ...   \n",
            "75%    2000.000000   2004.000000   164.250000   712.250000     0.000000  ...   \n",
            "max    2010.000000   2010.000000  1600.000000  5644.000000  1474.000000  ...   \n",
            "\n",
            "        GarageArea   WoodDeckSF  OpenPorchSF  EnclosedPorch    3SsnPorch  \\\n",
            "count  1460.000000  1460.000000  1460.000000    1460.000000  1460.000000   \n",
            "mean    472.980137    94.244521    46.660274      21.954110     3.409589   \n",
            "std     213.804841   125.338794    66.256028      61.119149    29.317331   \n",
            "min       0.000000     0.000000     0.000000       0.000000     0.000000   \n",
            "25%     334.500000     0.000000     0.000000       0.000000     0.000000   \n",
            "50%     480.000000     0.000000    25.000000       0.000000     0.000000   \n",
            "75%     576.000000   168.000000    68.000000       0.000000     0.000000   \n",
            "max    1418.000000   857.000000   547.000000     552.000000   508.000000   \n",
            "\n",
            "       ScreenPorch     PoolArea       MiscVal       MoSold       YrSold  \n",
            "count  1460.000000  1460.000000   1460.000000  1460.000000  1460.000000  \n",
            "mean     15.060959     2.758904     43.489041     6.321918  2007.815753  \n",
            "std      55.757415    40.177307    496.123024     2.703626     1.328095  \n",
            "min       0.000000     0.000000      0.000000     1.000000  2006.000000  \n",
            "25%       0.000000     0.000000      0.000000     5.000000  2007.000000  \n",
            "50%       0.000000     0.000000      0.000000     6.000000  2008.000000  \n",
            "75%       0.000000     0.000000      0.000000     8.000000  2009.000000  \n",
            "max     480.000000   738.000000  15500.000000    12.000000  2010.000000  \n",
            "\n",
            "[8 rows x 36 columns]\n"
          ]
        }
      ]
    },
    {
      "cell_type": "markdown",
      "source": [
        "\n",
        "Since SalePrice is a continuous variable in a regression problem, you cannot use value_counts(normalize=True) like in classification. Instead, you should analyze its distribution using statistical and visualization techniques.\n",
        "\n",
        "\n",
        "For classification, you check the target variable's balance to understand if your classes are underrepresented or overrepresented. In regression, we care about the distribution of the continuous target variable (like SalePrice), but in classification, you focus on the distribution of class labels.\n",
        "\n",
        "Here’s a breakdown for both:\n",
        "\n",
        "For Classification Problems:\n",
        "1. Check the Distribution of Classes\n",
        "Use value_counts(normalize=True) to see the proportion of each class:\n",
        "\n",
        "print(df['TargetClass'].value_counts(normalize=True))\n",
        "\n",
        "If the class distribution is imbalanced (i.e., one class has significantly more samples than the others), you might need techniques like resampling (undersampling or oversampling) or adjusting class weights during model training.\n",
        "\n",
        "2. check bar plot.\n",
        "\n",
        "For Regression Problems:\n",
        "In regression, your goal is to analyze how the continuous target variable behaves.\n",
        "\n",
        "1. Summary Statistics\n",
        "You analyze basic stats (like mean, median, standard deviation) to understand the distribution of the target variable."
      ],
      "metadata": {
        "id": "bsQEaN1nWv5U"
      }
    },
    {
      "cell_type": "markdown",
      "source": [
        "2. Histogram\n",
        "You visualize the distribution of the target variable using a histogram:"
      ],
      "metadata": {
        "id": "6u-U9OS_Xwvp"
      }
    },
    {
      "cell_type": "code",
      "source": [
        "import seaborn as sns\n"
      ],
      "metadata": {
        "id": "lfRXrALLX93b"
      },
      "execution_count": 81,
      "outputs": []
    },
    {
      "cell_type": "code",
      "source": [
        "import matplotlib.pyplot as plt\n",
        "import seaborn as sns\n",
        "\n",
        "plt.figure(figsize=(12, 6))\n",
        "sns.boxplot(data=df)\n",
        "plt.xticks(rotation=90)  # Rotate labels for better visibility\n",
        "plt.show()\n"
      ],
      "metadata": {
        "colab": {
          "base_uri": "https://localhost:8080/",
          "height": 521
        },
        "id": "EcpCAjXH2cMD",
        "outputId": "7d36a0bc-8e21-433d-eb9d-711427ad75e8"
      },
      "execution_count": 82,
      "outputs": [
        {
          "output_type": "display_data",
          "data": {
            "text/plain": [
              "<Figure size 1200x600 with 1 Axes>"
            ],
            "image/png": "[encoded data removed]"
          },
          "metadata": {}
        }
      ]
    },
    {
      "cell_type": "code",
      "source": [
        "import numpy as np\n",
        "import pandas as pd\n",
        "\n",
        "# Identify numerical features after encoding\n",
        "numerical_features = df.select_dtypes(include=['int64', 'float64']).columns.tolist()\n",
        "\n",
        "# Compute IQR for all numerical features\n",
        "Q1 = df[numerical_features].quantile(0.25)\n",
        "Q3 = df[numerical_features].quantile(0.75)\n",
        "IQR = Q3 - Q1\n",
        "\n",
        "# Detect outliers\n",
        "outliers = ((df[numerical_features] < (Q1 - 1.5 * IQR)) | (df[numerical_features] > (Q3 + 1.5 * IQR)))\n",
        "\n",
        "# Count outliers per feature\n",
        "outliers_count = outliers.sum().sort_values(ascending=False)\n",
        "print(outliers_count)\n"
      ],
      "metadata": {
        "colab": {
          "base_uri": "https://localhost:8080/"
        },
        "id": "HQ3TOo4k_4Qg",
        "outputId": "0b800a21-3fc0-4fa3-e042-e4f4259f11c9"
      },
      "execution_count": 83,
      "outputs": [
        {
          "output_type": "stream",
          "name": "stdout",
          "text": [
            "EnclosedPorch    208\n",
            "BsmtFinSF2       167\n",
            "OverallCond      125\n",
            "ScreenPorch      116\n",
            "LotFrontage      106\n",
            "MSSubClass       103\n",
            "MasVnrArea        98\n",
            "BsmtHalfBath      82\n",
            "OpenPorchSF       77\n",
            "LotArea           69\n",
            "KitchenAbvGr      68\n",
            "TotalBsmtSF       61\n",
            "MiscVal           52\n",
            "BedroomAbvGr      35\n",
            "WoodDeckSF        32\n",
            "GrLivArea         31\n",
            "TotRmsAbvGrd      30\n",
            "BsmtUnfSF         29\n",
            "LowQualFinSF      26\n",
            "3SsnPorch         24\n",
            "GarageArea        21\n",
            "1stFlrSF          20\n",
            "YearBuilt          7\n",
            "PoolArea           7\n",
            "BsmtFinSF1         7\n",
            "Fireplaces         5\n",
            "GarageCars         5\n",
            "OverallQual        2\n",
            "2ndFlrSF           2\n",
            "BsmtFullBath       1\n",
            "GarageYrBlt        1\n",
            "MoSold             0\n",
            "FullBath           0\n",
            "HalfBath           0\n",
            "YearRemodAdd       0\n",
            "YrSold             0\n",
            "dtype: int64\n"
          ]
        }
      ]
    },
    {
      "cell_type": "code",
      "source": [
        "df_clean = df[~outliers.any(axis=1)]\n",
        "print(f\"Original shape: {df.shape}, After removing outliers: {df_clean.shape}\")\n"
      ],
      "metadata": {
        "colab": {
          "base_uri": "https://localhost:8080/"
        },
        "id": "VY6QANZeAInb",
        "outputId": "b4b86e68-3d6c-418e-979d-4abdc9565d1e"
      },
      "execution_count": 91,
      "outputs": [
        {
          "output_type": "stream",
          "name": "stdout",
          "text": [
            "Original shape: (1460, 79), After removing outliers: (566, 79)\n"
          ]
        }
      ]
    },
    {
      "cell_type": "code",
      "source": [
        "# Count how many outlier values each row has\n",
        "outlier_counts_per_row = outliers.sum(axis=1)\n",
        "\n",
        "# Define a threshold (e.g., only remove rows with more than 5 outliers)\n",
        "threshold = 5  # Adjust as needed\n",
        "df_clean = df[outlier_counts_per_row <= threshold]\n",
        "\n",
        "print(f\"Original shape: {df.shape}, After removing outliers: {df_clean.shape}\")\n"
      ],
      "metadata": {
        "colab": {
          "base_uri": "https://localhost:8080/"
        },
        "id": "K3ABz70KAnau",
        "outputId": "4ab0984f-eea5-4220-8d93-012ce7b21d50"
      },
      "execution_count": 92,
      "outputs": [
        {
          "output_type": "stream",
          "name": "stdout",
          "text": [
            "Original shape: (1460, 79), After removing outliers: (1447, 79)\n"
          ]
        }
      ]
    },
    {
      "cell_type": "markdown",
      "source": [
        "446 rows are too few and you're concerned about losing too much data, you might want to relax the threshold or consider outlier treatment methods like capping or winsorization (replacing extreme values with more reasonable ones).\n",
        "\n",
        "Outlier Treatment with Capping or Winsorization\n",
        "Instead of removing rows, you can cap or winsorize extreme outliers, which replaces the outliers with a less extreme value (usually the nearest valid value). This can be useful to retain data without losing valuable rows.\n",
        "\n",
        "Capping (Truncation):\n",
        "Capping involves replacing the extreme values in your dataset with the nearest values that are within a specified range. This can be done based on the IQR (Interquartile Range) or Z-scores.\n",
        "\n",
        "Here's how to cap outliers using IQR:"
      ],
      "metadata": {
        "id": "d--7GKgkHMyK"
      }
    },
    {
      "cell_type": "code",
      "source": [
        "# Ensure that all data in df is numeric\n",
        "df = df.apply(pd.to_numeric, errors='coerce')  # Coerce any non-numeric values into NaN\n",
        "\n",
        "# Select only numeric columns for IQR calculation (in case there are any remaining non-numeric columns)\n",
        "numeric_df = df.select_dtypes(include=['number'])\n",
        "\n",
        "# Calculate the IQR (Interquartile Range) for each feature\n",
        "Q1 = numeric_df.quantile(0.25)\n",
        "Q3 = numeric_df.quantile(0.75)\n",
        "IQR = Q3 - Q1\n",
        "\n",
        "# Define outliers as values outside the range: [Q1 - 1.5 * IQR, Q3 + 1.5 * IQR]\n",
        "lower_bound = Q1 - 1.5 * IQR\n",
        "upper_bound = Q3 + 1.5 * IQR\n",
        "\n",
        "# Capping outliers\n",
        "df_clean = df.copy()\n",
        "df_clean[numeric_df.columns] = df_clean[numeric_df.columns].clip(lower=lower_bound, upper=upper_bound, axis=1)\n",
        "\n",
        "# Verify the result\n",
        "print(f\"Original shape: {df.shape}, After capping: {df_clean.shape}\")\n",
        "\n"
      ],
      "metadata": {
        "colab": {
          "base_uri": "https://localhost:8080/"
        },
        "id": "3uyVOdILHNgi",
        "outputId": "97376d35-fdeb-455d-b543-3b9641829492"
      },
      "execution_count": 93,
      "outputs": [
        {
          "output_type": "stream",
          "name": "stdout",
          "text": [
            "Original shape: (1460, 79), After capping: (1460, 79)\n"
          ]
        }
      ]
    },
    {
      "cell_type": "markdown",
      "source": [
        "Original shape: (1460, 225): Your dataset has 1460 rows and 225 features.\n",
        "After capping: (1460, 225): The number of rows and features remain the same, which is expected because capping doesn't remove any data; it just replaces extreme values with the boundaries.\n"
      ],
      "metadata": {
        "id": "Zph5zs7xHzsy"
      }
    },
    {
      "cell_type": "code",
      "source": [
        "import seaborn as sns\n",
        "import matplotlib.pyplot as plt\n",
        "\n",
        "# List of selected numerical columns for visualization (adjust the column names as per your dataset)\n",
        "selected_columns = ['OverallQual', 'GrLivArea', 'TotRmsAbvGrd', 'GarageCars', '1stFlrSF']\n",
        "\n",
        "# Create a subplot to compare boxplots\n",
        "fig, axes = plt.subplots(1, len(selected_columns), figsize=(15, 5))\n",
        "\n",
        "# Plot boxplots for each feature before and after capping\n",
        "for i, col in enumerate(selected_columns):\n",
        "    # Boxplot before capping\n",
        "    sns.boxplot(data=df[col], ax=axes[i], color='lightblue')\n",
        "    axes[i].set_title(f\"Before Capping: {col}\")\n",
        "\n",
        "    # Boxplot after capping\n",
        "    sns.boxplot(data=df_clean[col], ax=axes[i], color='lightgreen')\n",
        "    axes[i].set_title(f\"After Capping: {col}\")\n",
        "\n",
        "plt.tight_layout()\n",
        "plt.show()\n"
      ],
      "metadata": {
        "colab": {
          "base_uri": "https://localhost:8080/",
          "height": 298
        },
        "id": "z7mPMRU5H94I",
        "outputId": "47a296ab-84f8-46ce-8e92-636b3ecc5c8e"
      },
      "execution_count": 94,
      "outputs": [
        {
          "output_type": "display_data",
          "data": {
            "text/plain": [
              "<Figure size 1500x500 with 5 Axes>"
            ],
            "image/png": "[encoded data removed]"
          },
          "metadata": {}
        }
      ]
    },
    {
      "cell_type": "code",
      "source": [
        "from scipy.stats.mstats import winsorize\n",
        "\n",
        "# Apply Winsorization (replace outliers with the 5th and 95th percentiles)\n",
        "df_clean = df.copy()\n",
        "\n",
        "# Apply winsorization to numerical columns\n",
        "for col in df_clean.select_dtypes(include=['float64', 'int64']).columns:\n",
        "    df_clean[col] = winsorize(df_clean[col], limits=[0.05, 0.05])  # 5% for both sides\n",
        "\n",
        "# Verify the result\n",
        "print(f\"Original shape: {df.shape}, After winsorization: {df_clean.shape}\")\n"
      ],
      "metadata": {
        "colab": {
          "base_uri": "https://localhost:8080/"
        },
        "id": "dktsgNWYKrwC",
        "outputId": "06364e9d-508d-423b-e715-706e057ca4b2"
      },
      "execution_count": 95,
      "outputs": [
        {
          "output_type": "stream",
          "name": "stdout",
          "text": [
            "Original shape: (1460, 79), After winsorization: (1460, 79)\n"
          ]
        }
      ]
    },
    {
      "cell_type": "code",
      "source": [
        "import seaborn as sns\n",
        "import matplotlib.pyplot as plt\n",
        "\n",
        "# List of selected numerical columns for visualization (adjust the column names as per your dataset)\n",
        "selected_columns = ['OverallQual', 'GrLivArea', 'TotRmsAbvGrd', 'GarageCars', '1stFlrSF']\n",
        "\n",
        "# Create a subplot to compare boxplots\n",
        "fig, axes = plt.subplots(1, len(selected_columns), figsize=(15, 5))\n",
        "\n",
        "# Plot boxplots for each feature before and after capping\n",
        "for i, col in enumerate(selected_columns):\n",
        "    # Boxplot before capping\n",
        "    sns.boxplot(data=df[col], ax=axes[i], color='lightblue')\n",
        "    axes[i].set_title(f\"Before Capping: {col}\")\n",
        "\n",
        "    # Boxplot after capping\n",
        "    sns.boxplot(data=df_clean[col], ax=axes[i], color='lightgreen')\n",
        "    axes[i].set_title(f\"After Capping: {col}\")\n",
        "\n",
        "plt.tight_layout()\n",
        "plt.show()"
      ],
      "metadata": {
        "colab": {
          "base_uri": "https://localhost:8080/",
          "height": 298
        },
        "id": "-eVy1hlkLFKh",
        "outputId": "9abafede-109c-400a-d1c4-4afc5aed8544"
      },
      "execution_count": 109,
      "outputs": [
        {
          "output_type": "display_data",
          "data": {
            "text/plain": [
              "<Figure size 1500x500 with 5 Axes>"
            ],
            "image/png": "[encoded data removed]"
          },
          "metadata": {}
        }
      ]
    },
    {
      "cell_type": "code",
      "source": [
        "train_data = pd.read_csv(\"/content/train (1).csv\")\n",
        "train_data.head()"
      ],
      "metadata": {
        "colab": {
          "base_uri": "https://localhost:8080/",
          "height": 256
        },
        "id": "05cpD38TzW2E",
        "outputId": "17aaa8b3-7c66-4862-f151-c1acf307ca30"
      },
      "execution_count": 121,
      "outputs": [
        {
          "output_type": "execute_result",
          "data": {
            "text/plain": [
              "   Id  MSSubClass MSZoning  LotFrontage  LotArea Street Alley LotShape  \\\n",
              "0   1          60       RL         65.0     8450   Pave   NaN      Reg   \n",
              "1   2          20       RL         80.0     9600   Pave   NaN      Reg   \n",
              "2   3          60       RL         68.0    11250   Pave   NaN      IR1   \n",
              "3   4          70       RL         60.0     9550   Pave   NaN      IR1   \n",
              "4   5          60       RL         84.0    14260   Pave   NaN      IR1   \n",
              "\n",
              "  LandContour Utilities  ... PoolArea PoolQC Fence MiscFeature MiscVal MoSold  \\\n",
              "0         Lvl    AllPub  ...        0    NaN   NaN         NaN       0      2   \n",
              "1         Lvl    AllPub  ...        0    NaN   NaN         NaN       0      5   \n",
              "2         Lvl    AllPub  ...        0    NaN   NaN         NaN       0      9   \n",
              "3         Lvl    AllPub  ...        0    NaN   NaN         NaN       0      2   \n",
              "4         Lvl    AllPub  ...        0    NaN   NaN         NaN       0     12   \n",
              "\n",
              "  YrSold  SaleType  SaleCondition  SalePrice  \n",
              "0   2008        WD         Normal     208500  \n",
              "1   2007        WD         Normal     181500  \n",
              "2   2008        WD         Normal     223500  \n",
              "3   2006        WD        Abnorml     140000  \n",
              "4   2008        WD         Normal     250000  \n",
              "\n",
              "[5 rows x 81 columns]"
            ],
            "text/html": [
              "\n",
              "  <div id=\"df-df74c83a-a96c-4709-9e26-5770047152ce\" class=\"colab-df-container\">\n",
              "    <div>\n",
              "<style scoped>\n",
              "    .dataframe tbody tr th:only-of-type {\n",
              "        vertical-align: middle;\n",
              "    }\n",
              "\n",
              "    .dataframe tbody tr th {\n",
              "        vertical-align: top;\n",
              "    }\n",
              "\n",
              "    .dataframe thead th {\n",
              "        text-align: right;\n",
              "    }\n",
              "</style>\n",
              "<table border=\"1\" class=\"dataframe\">\n",
              "  <thead>\n",
              "    <tr style=\"text-align: right;\">\n",
              "      <th></th>\n",
              "      <th>Id</th>\n",
              "      <th>MSSubClass</th>\n",
              "      <th>MSZoning</th>\n",
              "      <th>LotFrontage</th>\n",
              "      <th>LotArea</th>\n",
              "      <th>Street</th>\n",
              "      <th>Alley</th>\n",
              "      <th>LotShape</th>\n",
              "      <th>LandContour</th>\n",
              "      <th>Utilities</th>\n",
              "      <th>...</th>\n",
              "      <th>PoolArea</th>\n",
              "      <th>PoolQC</th>\n",
              "      <th>Fence</th>\n",
              "      <th>MiscFeature</th>\n",
              "      <th>MiscVal</th>\n",
              "      <th>MoSold</th>\n",
              "      <th>YrSold</th>\n",
              "      <th>SaleType</th>\n",
              "      <th>SaleCondition</th>\n",
              "      <th>SalePrice</th>\n",
              "    </tr>\n",
              "  </thead>\n",
              "  <tbody>\n",
              "    <tr>\n",
              "      <th>0</th>\n",
              "      <td>1</td>\n",
              "      <td>60</td>\n",
              "      <td>RL</td>\n",
              "      <td>65.0</td>\n",
              "      <td>8450</td>\n",
              "      <td>Pave</td>\n",
              "      <td>NaN</td>\n",
              "      <td>Reg</td>\n",
              "      <td>Lvl</td>\n",
              "      <td>AllPub</td>\n",
              "      <td>...</td>\n",
              "      <td>0</td>\n",
              "      <td>NaN</td>\n",
              "      <td>NaN</td>\n",
              "      <td>NaN</td>\n",
              "      <td>0</td>\n",
              "      <td>2</td>\n",
              "      <td>2008</td>\n",
              "      <td>WD</td>\n",
              "      <td>Normal</td>\n",
              "      <td>208500</td>\n",
              "    </tr>\n",
              "    <tr>\n",
              "      <th>1</th>\n",
              "      <td>2</td>\n",
              "      <td>20</td>\n",
              "      <td>RL</td>\n",
              "      <td>80.0</td>\n",
              "      <td>9600</td>\n",
              "      <td>Pave</td>\n",
              "      <td>NaN</td>\n",
              "      <td>Reg</td>\n",
              "      <td>Lvl</td>\n",
              "      <td>AllPub</td>\n",
              "      <td>...</td>\n",
              "      <td>0</td>\n",
              "      <td>NaN</td>\n",
              "      <td>NaN</td>\n",
              "      <td>NaN</td>\n",
              "      <td>0</td>\n",
              "      <td>5</td>\n",
              "      <td>2007</td>\n",
              "      <td>WD</td>\n",
              "      <td>Normal</td>\n",
              "      <td>181500</td>\n",
              "    </tr>\n",
              "    <tr>\n",
              "      <th>2</th>\n",
              "      <td>3</td>\n",
              "      <td>60</td>\n",
              "      <td>RL</td>\n",
              "      <td>68.0</td>\n",
              "      <td>11250</td>\n",
              "      <td>Pave</td>\n",
              "      <td>NaN</td>\n",
              "      <td>IR1</td>\n",
              "      <td>Lvl</td>\n",
              "      <td>AllPub</td>\n",
              "      <td>...</td>\n",
              "      <td>0</td>\n",
              "      <td>NaN</td>\n",
              "      <td>NaN</td>\n",
              "      <td>NaN</td>\n",
              "      <td>0</td>\n",
              "      <td>9</td>\n",
              "      <td>2008</td>\n",
              "      <td>WD</td>\n",
              "      <td>Normal</td>\n",
              "      <td>223500</td>\n",
              "    </tr>\n",
              "    <tr>\n",
              "      <th>3</th>\n",
              "      <td>4</td>\n",
              "      <td>70</td>\n",
              "      <td>RL</td>\n",
              "      <td>60.0</td>\n",
              "      <td>9550</td>\n",
              "      <td>Pave</td>\n",
              "      <td>NaN</td>\n",
              "      <td>IR1</td>\n",
              "      <td>Lvl</td>\n",
              "      <td>AllPub</td>\n",
              "      <td>...</td>\n",
              "      <td>0</td>\n",
              "      <td>NaN</td>\n",
              "      <td>NaN</td>\n",
              "      <td>NaN</td>\n",
              "      <td>0</td>\n",
              "      <td>2</td>\n",
              "      <td>2006</td>\n",
              "      <td>WD</td>\n",
              "      <td>Abnorml</td>\n",
              "      <td>140000</td>\n",
              "    </tr>\n",
              "    <tr>\n",
              "      <th>4</th>\n",
              "      <td>5</td>\n",
              "      <td>60</td>\n",
              "      <td>RL</td>\n",
              "      <td>84.0</td>\n",
              "      <td>14260</td>\n",
              "      <td>Pave</td>\n",
              "      <td>NaN</td>\n",
              "      <td>IR1</td>\n",
              "      <td>Lvl</td>\n",
              "      <td>AllPub</td>\n",
              "      <td>...</td>\n",
              "      <td>0</td>\n",
              "      <td>NaN</td>\n",
              "      <td>NaN</td>\n",
              "      <td>NaN</td>\n",
              "      <td>0</td>\n",
              "      <td>12</td>\n",
              "      <td>2008</td>\n",
              "      <td>WD</td>\n",
              "      <td>Normal</td>\n",
              "      <td>250000</td>\n",
              "    </tr>\n",
              "  </tbody>\n",
              "</table>\n",
              "<p>5 rows × 81 columns</p>\n",
              "</div>\n",
              "    <div class=\"colab-df-buttons\">\n",
              "\n",
              "  <div class=\"colab-df-container\">\n",
              "    <button class=\"colab-df-convert\" onclick=\"convertToInteractive('df-df74c83a-a96c-4709-9e26-5770047152ce')\"\n",
              "            title=\"Convert this dataframe to an interactive table.\"\n",
              "            style=\"display:none;\">\n",
              "\n",
              "  <svg xmlns=\"http://www.w3.org/2000/svg\" height=\"24px\" viewBox=\"0 -960 960 960\">\n",
              "    <path d=\"M120-120v-720h720v720H120Zm60-500h600v-160H180v160Zm220 220h160v-160H400v160Zm0 220h160v-160H400v160ZM180-400h160v-160H180v160Zm440 0h160v-160H620v160ZM180-180h160v-160H180v160Zm440 0h160v-160H620v160Z\"/>\n",
              "  </svg>\n",
              "    </button>\n",
              "\n",
              "  <style>\n",
              "    .colab-df-container {\n",
              "      display:flex;\n",
              "      gap: 12px;\n",
              "    }\n",
              "\n",
              "    .colab-df-convert {\n",
              "      background-color: #E8F0FE;\n",
              "      border: none;\n",
              "      border-radius: 50%;\n",
              "      cursor: pointer;\n",
              "      display: none;\n",
              "      fill: #1967D2;\n",
              "      height: 32px;\n",
              "      padding: 0 0 0 0;\n",
              "      width: 32px;\n",
              "    }\n",
              "\n",
              "    .colab-df-convert:hover {\n",
              "      background-color: #E2EBFA;\n",
              "      box-shadow: 0px 1px 2px rgba(60, 64, 67, 0.3), 0px 1px 3px 1px rgba(60, 64, 67, 0.15);\n",
              "      fill: #174EA6;\n",
              "    }\n",
              "\n",
              "    .colab-df-buttons div {\n",
              "      margin-bottom: 4px;\n",
              "    }\n",
              "\n",
              "    [theme=dark] .colab-df-convert {\n",
              "      background-color: #3B4455;\n",
              "      fill: #D2E3FC;\n",
              "    }\n",
              "\n",
              "    [theme=dark] .colab-df-convert:hover {\n",
              "      background-color: #434B5C;\n",
              "      box-shadow: 0px 1px 3px 1px rgba(0, 0, 0, 0.15);\n",
              "      filter: drop-shadow(0px 1px 2px rgba(0, 0, 0, 0.3));\n",
              "      fill: #FFFFFF;\n",
              "    }\n",
              "  </style>\n",
              "\n",
              "    <script>\n",
              "      const buttonEl =\n",
              "        document.querySelector('#df-df74c83a-a96c-4709-9e26-5770047152ce button.colab-df-convert');\n",
              "      buttonEl.style.display =\n",
              "        google.colab.kernel.accessAllowed ? 'block' : 'none';\n",
              "\n",
              "      async function convertToInteractive(key) {\n",
              "        const element = document.querySelector('#df-df74c83a-a96c-4709-9e26-5770047152ce');\n",
              "        const dataTable =\n",
              "          await google.colab.kernel.invokeFunction('convertToInteractive',\n",
              "                                                    [key], {});\n",
              "        if (!dataTable) return;\n",
              "\n",
              "        const docLinkHtml = 'Like what you see? Visit the ' +\n",
              "          '<a target=\"_blank\" href=https://colab.research.google.com/notebooks/data_table.ipynb>data table notebook</a>'\n",
              "          + ' to learn more about interactive tables.';\n",
              "        element.innerHTML = '';\n",
              "        dataTable['output_type'] = 'display_data';\n",
              "        await google.colab.output.renderOutput(dataTable, element);\n",
              "        const docLink = document.createElement('div');\n",
              "        docLink.innerHTML = docLinkHtml;\n",
              "        element.appendChild(docLink);\n",
              "      }\n",
              "    </script>\n",
              "  </div>\n",
              "\n",
              "\n",
              "<div id=\"df-8e3ce305-0fbd-47bb-8c0d-853811702d14\">\n",
              "  <button class=\"colab-df-quickchart\" onclick=\"quickchart('df-8e3ce305-0fbd-47bb-8c0d-853811702d14')\"\n",
              "            title=\"Suggest charts\"\n",
              "            style=\"display:none;\">\n",
              "\n",
              "<svg xmlns=\"http://www.w3.org/2000/svg\" height=\"24px\"viewBox=\"0 0 24 24\"\n",
              "     width=\"24px\">\n",
              "    <g>\n",
              "        <path d=\"M19 3H5c-1.1 0-2 .9-2 2v14c0 1.1.9 2 2 2h14c1.1 0 2-.9 2-2V5c0-1.1-.9-2-2-2zM9 17H7v-7h2v7zm4 0h-2V7h2v10zm4 0h-2v-4h2v4z\"/>\n",
              "    </g>\n",
              "</svg>\n",
              "  </button>\n",
              "\n",
              "<style>\n",
              "  .colab-df-quickchart {\n",
              "      --bg-color: #E8F0FE;\n",
              "      --fill-color: #1967D2;\n",
              "      --hover-bg-color: #E2EBFA;\n",
              "      --hover-fill-color: #174EA6;\n",
              "      --disabled-fill-color: #AAA;\n",
              "      --disabled-bg-color: #DDD;\n",
              "  }\n",
              "\n",
              "  [theme=dark] .colab-df-quickchart {\n",
              "      --bg-color: #3B4455;\n",
              "      --fill-color: #D2E3FC;\n",
              "      --hover-bg-color: #434B5C;\n",
              "      --hover-fill-color: #FFFFFF;\n",
              "      --disabled-bg-color: #3B4455;\n",
              "      --disabled-fill-color: #666;\n",
              "  }\n",
              "\n",
              "  .colab-df-quickchart {\n",
              "    background-color: var(--bg-color);\n",
              "    border: none;\n",
              "    border-radius: 50%;\n",
              "    cursor: pointer;\n",
              "    display: none;\n",
              "    fill: var(--fill-color);\n",
              "    height: 32px;\n",
              "    padding: 0;\n",
              "    width: 32px;\n",
              "  }\n",
              "\n",
              "  .colab-df-quickchart:hover {\n",
              "    background-color: var(--hover-bg-color);\n",
              "    box-shadow: 0 1px 2px rgba(60, 64, 67, 0.3), 0 1px 3px 1px rgba(60, 64, 67, 0.15);\n",
              "    fill: var(--button-hover-fill-color);\n",
              "  }\n",
              "\n",
              "  .colab-df-quickchart-complete:disabled,\n",
              "  .colab-df-quickchart-complete:disabled:hover {\n",
              "    background-color: var(--disabled-bg-color);\n",
              "    fill: var(--disabled-fill-color);\n",
              "    box-shadow: none;\n",
              "  }\n",
              "\n",
              "  .colab-df-spinner {\n",
              "    border: 2px solid var(--fill-color);\n",
              "    border-color: transparent;\n",
              "    border-bottom-color: var(--fill-color);\n",
              "    animation:\n",
              "      spin 1s steps(1) infinite;\n",
              "  }\n",
              "\n",
              "  @keyframes spin {\n",
              "    0% {\n",
              "      border-color: transparent;\n",
              "      border-bottom-color: var(--fill-color);\n",
              "      border-left-color: var(--fill-color);\n",
              "    }\n",
              "    20% {\n",
              "      border-color: transparent;\n",
              "      border-left-color: var(--fill-color);\n",
              "      border-top-color: var(--fill-color);\n",
              "    }\n",
              "    30% {\n",
              "      border-color: transparent;\n",
              "      border-left-color: var(--fill-color);\n",
              "      border-top-color: var(--fill-color);\n",
              "      border-right-color: var(--fill-color);\n",
              "    }\n",
              "    40% {\n",
              "      border-color: transparent;\n",
              "      border-right-color: var(--fill-color);\n",
              "      border-top-color: var(--fill-color);\n",
              "    }\n",
              "    60% {\n",
              "      border-color: transparent;\n",
              "      border-right-color: var(--fill-color);\n",
              "    }\n",
              "    80% {\n",
              "      border-color: transparent;\n",
              "      border-right-color: var(--fill-color);\n",
              "      border-bottom-color: var(--fill-color);\n",
              "    }\n",
              "    90% {\n",
              "      border-color: transparent;\n",
              "      border-bottom-color: var(--fill-color);\n",
              "    }\n",
              "  }\n",
              "</style>\n",
              "\n",
              "  <script>\n",
              "    async function quickchart(key) {\n",
              "      const quickchartButtonEl =\n",
              "        document.querySelector('#' + key + ' button');\n",
              "      quickchartButtonEl.disabled = true;  // To prevent multiple clicks.\n",
              "      quickchartButtonEl.classList.add('colab-df-spinner');\n",
              "      try {\n",
              "        const charts = await google.colab.kernel.invokeFunction(\n",
              "            'suggestCharts', [key], {});\n",
              "      } catch (error) {\n",
              "        console.error('Error during call to suggestCharts:', error);\n",
              "      }\n",
              "      quickchartButtonEl.classList.remove('colab-df-spinner');\n",
              "      quickchartButtonEl.classList.add('colab-df-quickchart-complete');\n",
              "    }\n",
              "    (() => {\n",
              "      let quickchartButtonEl =\n",
              "        document.querySelector('#df-8e3ce305-0fbd-47bb-8c0d-853811702d14 button');\n",
              "      quickchartButtonEl.style.display =\n",
              "        google.colab.kernel.accessAllowed ? 'block' : 'none';\n",
              "    })();\n",
              "  </script>\n",
              "</div>\n",
              "\n",
              "    </div>\n",
              "  </div>\n"
            ],
            "application/vnd.google.colaboratory.intrinsic+json": {
              "type": "dataframe",
              "variable_name": "train_data"
            }
          },
          "metadata": {},
          "execution_count": 121
        }
      ]
    },
    {
      "cell_type": "code",
      "source": [
        "print(\"Categorical Features:\", categorical_features)\n",
        "print(\"Columns in DataFrame:\", df.columns.tolist())\n",
        "print(\"Missing Columns:\", [col for col in categorical_features if col not in df.columns])\n"
      ],
      "metadata": {
        "colab": {
          "base_uri": "https://localhost:8080/"
        },
        "id": "wkGoO9naoimR",
        "outputId": "ed4368e5-c0cf-42bd-ead4-6cad5c5133ce"
      },
      "execution_count": 122,
      "outputs": [
        {
          "output_type": "stream",
          "name": "stdout",
          "text": [
            "Categorical Features: ['MSZoning', 'Street', 'Alley', 'LotShape', 'LandContour', 'Utilities', 'LotConfig', 'LandSlope', 'Neighborhood', 'Condition1', 'Condition2', 'BldgType', 'HouseStyle', 'RoofStyle', 'RoofMatl', 'Exterior1st', 'Exterior2nd', 'MasVnrType', 'ExterQual', 'ExterCond', 'Foundation', 'BsmtQual', 'BsmtCond', 'BsmtExposure', 'BsmtFinType1', 'BsmtFinType2', 'Heating', 'HeatingQC', 'CentralAir', 'Electrical', 'KitchenQual', 'Functional', 'FireplaceQu', 'GarageType', 'GarageFinish', 'GarageQual', 'GarageCond', 'PavedDrive', 'PoolQC', 'Fence', 'MiscFeature', 'SaleType', 'SaleCondition']\n",
            "Columns in DataFrame: ['MSSubClass', 'MSZoning', 'LotFrontage', 'LotArea', 'Street', 'Alley', 'LotShape', 'LandContour', 'Utilities', 'LotConfig', 'LandSlope', 'Neighborhood', 'Condition1', 'Condition2', 'BldgType', 'HouseStyle', 'OverallQual', 'OverallCond', 'YearBuilt', 'YearRemodAdd', 'RoofStyle', 'RoofMatl', 'Exterior1st', 'Exterior2nd', 'MasVnrType', 'MasVnrArea', 'ExterQual', 'ExterCond', 'Foundation', 'BsmtQual', 'BsmtCond', 'BsmtExposure', 'BsmtFinType1', 'BsmtFinSF1', 'BsmtFinType2', 'BsmtFinSF2', 'BsmtUnfSF', 'TotalBsmtSF', 'Heating', 'HeatingQC', 'CentralAir', 'Electrical', '1stFlrSF', '2ndFlrSF', 'LowQualFinSF', 'GrLivArea', 'BsmtFullBath', 'BsmtHalfBath', 'FullBath', 'HalfBath', 'BedroomAbvGr', 'KitchenAbvGr', 'KitchenQual', 'TotRmsAbvGrd', 'Functional', 'Fireplaces', 'FireplaceQu', 'GarageType', 'GarageYrBlt', 'GarageFinish', 'GarageCars', 'GarageArea', 'GarageQual', 'GarageCond', 'PavedDrive', 'WoodDeckSF', 'OpenPorchSF', 'EnclosedPorch', '3SsnPorch', 'ScreenPorch', 'PoolArea', 'PoolQC', 'Fence', 'MiscFeature', 'MiscVal', 'MoSold', 'YrSold', 'SaleType', 'SaleCondition']\n",
            "Missing Columns: []\n"
          ]
        }
      ]
    },
    {
      "cell_type": "code",
      "source": [
        "print(df[categorical_features].isnull().sum())\n"
      ],
      "metadata": {
        "colab": {
          "base_uri": "https://localhost:8080/"
        },
        "id": "N77zhzR3owq6",
        "outputId": "b447e386-5b49-421b-a03f-19dfec408de4"
      },
      "execution_count": 123,
      "outputs": [
        {
          "output_type": "stream",
          "name": "stdout",
          "text": [
            "MSZoning         0\n",
            "Street           0\n",
            "Alley            0\n",
            "LotShape         0\n",
            "LandContour      0\n",
            "Utilities        0\n",
            "LotConfig        0\n",
            "LandSlope        0\n",
            "Neighborhood     0\n",
            "Condition1       0\n",
            "Condition2       0\n",
            "BldgType         0\n",
            "HouseStyle       0\n",
            "RoofStyle        0\n",
            "RoofMatl         0\n",
            "Exterior1st      0\n",
            "Exterior2nd      0\n",
            "MasVnrType       0\n",
            "ExterQual        0\n",
            "ExterCond        0\n",
            "Foundation       0\n",
            "BsmtQual         0\n",
            "BsmtCond         0\n",
            "BsmtExposure     0\n",
            "BsmtFinType1     0\n",
            "BsmtFinType2     0\n",
            "Heating          0\n",
            "HeatingQC        0\n",
            "CentralAir       0\n",
            "Electrical       0\n",
            "KitchenQual      0\n",
            "Functional       0\n",
            "FireplaceQu      0\n",
            "GarageType       0\n",
            "GarageFinish     0\n",
            "GarageQual       0\n",
            "GarageCond       0\n",
            "PavedDrive       0\n",
            "PoolQC           0\n",
            "Fence            0\n",
            "MiscFeature      0\n",
            "SaleType         0\n",
            "SaleCondition    0\n",
            "dtype: int64\n"
          ]
        }
      ]
    },
    {
      "cell_type": "code",
      "source": [
        "df[categorical_features] = df[categorical_features].fillna(\"Missing\")\n",
        "\n",
        "# Now apply imputation\n",
        "df[categorical_features] = pd.DataFrame(\n",
        "    categorical_imputer.fit_transform(df[categorical_features]),\n",
        "    columns=categorical_features, index=df.index\n",
        ")\n"
      ],
      "metadata": {
        "id": "G-RwDAmbpKth"
      },
      "execution_count": 124,
      "outputs": []
    },
    {
      "cell_type": "code",
      "source": [
        "print(\"\\n✅ Missing Values After Fix:\")\n",
        "print(df[categorical_features].isnull().sum())\n"
      ],
      "metadata": {
        "colab": {
          "base_uri": "https://localhost:8080/"
        },
        "id": "FiKsISMtpXSK",
        "outputId": "50eaaa48-1ab5-4412-de60-f3e10db2dd02"
      },
      "execution_count": 125,
      "outputs": [
        {
          "output_type": "stream",
          "name": "stdout",
          "text": [
            "\n",
            "✅ Missing Values After Fix:\n",
            "MSZoning         0\n",
            "Street           0\n",
            "Alley            0\n",
            "LotShape         0\n",
            "LandContour      0\n",
            "Utilities        0\n",
            "LotConfig        0\n",
            "LandSlope        0\n",
            "Neighborhood     0\n",
            "Condition1       0\n",
            "Condition2       0\n",
            "BldgType         0\n",
            "HouseStyle       0\n",
            "RoofStyle        0\n",
            "RoofMatl         0\n",
            "Exterior1st      0\n",
            "Exterior2nd      0\n",
            "MasVnrType       0\n",
            "ExterQual        0\n",
            "ExterCond        0\n",
            "Foundation       0\n",
            "BsmtQual         0\n",
            "BsmtCond         0\n",
            "BsmtExposure     0\n",
            "BsmtFinType1     0\n",
            "BsmtFinType2     0\n",
            "Heating          0\n",
            "HeatingQC        0\n",
            "CentralAir       0\n",
            "Electrical       0\n",
            "KitchenQual      0\n",
            "Functional       0\n",
            "FireplaceQu      0\n",
            "GarageType       0\n",
            "GarageFinish     0\n",
            "GarageQual       0\n",
            "GarageCond       0\n",
            "PavedDrive       0\n",
            "PoolQC           0\n",
            "Fence            0\n",
            "MiscFeature      0\n",
            "SaleType         0\n",
            "SaleCondition    0\n",
            "dtype: int64\n"
          ]
        }
      ]
    },
    {
      "cell_type": "code",
      "source": [
        "from sklearn.impute import SimpleImputer\n",
        "\n",
        "\n",
        "\n",
        "# Define feature categories based on your list\n",
        "continuous_features = ['LotFrontage', 'MasVnrArea', 'GarageYrBlt']\n",
        "categorical_features = ['MSZoning', 'Street', 'Alley', 'LotShape', 'LandContour', 'Utilities', 'LotConfig', 'LandSlope',\n",
        "                        'Neighborhood', 'Condition1', 'Condition2', 'BldgType', 'HouseStyle', 'RoofStyle', 'RoofMatl',\n",
        "                        'Exterior1st', 'Exterior2nd', 'MasVnrType', 'ExterQual', 'ExterCond', 'Foundation', 'BsmtQual',\n",
        "                        'BsmtCond', 'BsmtExposure', 'BsmtFinType1', 'BsmtFinType2', 'Heating', 'HeatingQC', 'CentralAir',\n",
        "                        'Electrical', 'KitchenQual', 'Functional', 'FireplaceQu', 'GarageType', 'GarageFinish', 'GarageQual',\n",
        "                        'GarageCond', 'PavedDrive', 'PoolQC', 'Fence', 'MiscFeature', 'SaleType', 'SaleCondition']\n",
        "numerical_features = ['MSSubClass', 'LotArea', 'OverallQual', 'OverallCond', 'YearBuilt', 'YearRemodAdd', 'BsmtFinSF1',\n",
        "                      'BsmtFinSF2', 'BsmtUnfSF', 'TotalBsmtSF', '1stFlrSF', '2ndFlrSF', 'LowQualFinSF', 'GrLivArea',\n",
        "                      'BsmtFullBath', 'BsmtHalfBath', 'FullBath', 'HalfBath', 'BedroomAbvGr', 'KitchenAbvGr',\n",
        "                      'TotRmsAbvGrd', 'Fireplaces', 'GarageCars', 'GarageArea', 'WoodDeckSF', 'OpenPorchSF',\n",
        "                      'EnclosedPorch', '3SsnPorch', 'ScreenPorch', 'PoolArea', 'MiscVal', 'MoSold', 'YrSold']\n",
        "\n",
        "# Step 1: Print missing values before imputation\n",
        "print(\"\\n🚀 Missing Values Before Imputation:\")\n",
        "print(df.isnull().sum())\n",
        "\n",
        "# Step 2: Define imputers\n",
        "continuous_imputer = SimpleImputer(strategy='mean')  # Use 'median' if preferred\n",
        "categorical_imputer = SimpleImputer(strategy='most_frequent')\n",
        "numerical_imputer = SimpleImputer(strategy='mean')\n",
        "\n",
        "# Step 3: Apply imputations\n",
        "df[continuous_features] = continuous_imputer.fit_transform(df[continuous_features])\n",
        "df[categorical_features] = categorical_imputer.fit_transform(df[categorical_features])\n",
        "df[numerical_features] = numerical_imputer.fit_transform(df[numerical_features])\n",
        "\n",
        "# Step 4: Print missing values after imputation\n",
        "print(\"\\n✅ Missing Values After Imputation:\")\n",
        "print(df.isnull().sum())"
      ],
      "metadata": {
        "colab": {
          "base_uri": "https://localhost:8080/"
        },
        "id": "lB3W7z8ozutR",
        "outputId": "a45f6c2a-0402-448b-962d-c47b5b96ad36"
      },
      "execution_count": 127,
      "outputs": [
        {
          "output_type": "stream",
          "name": "stdout",
          "text": [
            "\n",
            "🚀 Missing Values Before Imputation:\n",
            "MSSubClass       0\n",
            "MSZoning         0\n",
            "LotFrontage      0\n",
            "LotArea          0\n",
            "Street           0\n",
            "                ..\n",
            "MiscVal          0\n",
            "MoSold           0\n",
            "YrSold           0\n",
            "SaleType         0\n",
            "SaleCondition    0\n",
            "Length: 79, dtype: int64\n",
            "\n",
            "✅ Missing Values After Imputation:\n",
            "MSSubClass       0\n",
            "MSZoning         0\n",
            "LotFrontage      0\n",
            "LotArea          0\n",
            "Street           0\n",
            "                ..\n",
            "MiscVal          0\n",
            "MoSold           0\n",
            "YrSold           0\n",
            "SaleType         0\n",
            "SaleCondition    0\n",
            "Length: 79, dtype: int64\n"
          ]
        }
      ]
    },
    {
      "cell_type": "code",
      "source": [
        "from sklearn.model_selection import train_test_split\n",
        "\n",
        "# Split the data (80% training, 20% testing)\n",
        "X_train, X_test, y_train, y_test = train_test_split(df_scaled, target, test_size=0.2, random_state=42)\n",
        "\n",
        "# Display the shapes to confirm\n",
        "print(f\"X_train shape: {X_train.shape}, y_train shape: {y_train.shape}\")\n",
        "print(f\"X_test shape: {X_test.shape}, y_test shape: {y_test.shape}\")\n"
      ],
      "metadata": {
        "colab": {
          "base_uri": "https://localhost:8080/"
        },
        "id": "GkL42PCTMi_k",
        "outputId": "cfe23a2e-a6f1-45c4-f005-3c1f3979748e"
      },
      "execution_count": 132,
      "outputs": [
        {
          "output_type": "stream",
          "name": "stdout",
          "text": [
            "X_train shape: (1168, 79), y_train shape: (1168,)\n",
            "X_test shape: (292, 79), y_test shape: (292,)\n"
          ]
        }
      ]
    },
    {
      "cell_type": "code",
      "source": [
        "from sklearn.ensemble import RandomForestRegressor\n",
        "from sklearn.metrics import mean_absolute_error, mean_squared_error, r2_score\n",
        "\n",
        "# Initialize the model\n",
        "rf = RandomForestRegressor(n_estimators=100, random_state=42)\n",
        "\n",
        "# Train the model\n",
        "rf.fit(X_train, y_train)\n",
        "\n",
        "# Make predictions on the test set\n",
        "y_pred = rf.predict(X_test)\n"
      ],
      "metadata": {
        "id": "6pZX7JdbMi8Z"
      },
      "execution_count": 133,
      "outputs": []
    },
    {
      "cell_type": "code",
      "source": [
        "# Calculate MAE, MSE, and R² score\n",
        "mae = mean_absolute_error(y_test, y_pred)\n",
        "mse = mean_squared_error(y_test, y_pred)\n",
        "r2 = r2_score(y_test, y_pred)\n",
        "\n",
        "print(f\"Mean Absolute Error (MAE): {mae}\")\n",
        "print(f\"Mean Squared Error (MSE): {mse}\")\n",
        "print(f\"R² Score: {r2}\")\n"
      ],
      "metadata": {
        "colab": {
          "base_uri": "https://localhost:8080/"
        },
        "id": "KXzvERDfMfbI",
        "outputId": "2539859c-59ba-4ccd-d744-3750c7cc5fb6"
      },
      "execution_count": 134,
      "outputs": [
        {
          "output_type": "stream",
          "name": "stdout",
          "text": [
            "Mean Absolute Error (MAE): 18004.337499999998\n",
            "Mean Squared Error (MSE): 862649278.1747137\n",
            "R² Score: 0.8875342123824658\n"
          ]
        }
      ]
    },
    {
      "cell_type": "code",
      "source": [
        "from sklearn.impute import SimpleImputer\n",
        "from sklearn.ensemble import GradientBoostingRegressor\n",
        "from sklearn.metrics import mean_absolute_error, mean_squared_error, r2_score\n",
        "\n",
        "# Impute missing values\n",
        "imputer = SimpleImputer(strategy='mean')  # You can change 'mean' to 'median', 'most_frequent', etc.\n",
        "X_train_imputed = imputer.fit_transform(X_train)\n",
        "X_test_imputed = imputer.transform(X_test)\n",
        "\n",
        "# Initialize and train the model\n",
        "gbr = GradientBoostingRegressor(n_estimators=200, learning_rate=0.1, max_depth=3, random_state=42)\n",
        "gbr.fit(X_train_imputed, y_train)\n",
        "\n",
        "# Predictions\n",
        "y_pred_gbr = gbr.predict(X_test_imputed)\n",
        "\n",
        "# Evaluate the model\n",
        "mae_gbr = mean_absolute_error(y_test, y_pred_gbr)\n",
        "mse_gbr = mean_squared_error(y_test, y_pred_gbr)\n",
        "r2_gbr = r2_score(y_test, y_pred_gbr)\n",
        "\n",
        "print(f\"Gradient Boosting - MAE: {mae_gbr}\")\n",
        "print(f\"Gradient Boosting - MSE: {mse_gbr}\")\n",
        "print(f\"Gradient Boosting - R²: {r2_gbr}\")\n",
        "\n"
      ],
      "metadata": {
        "colab": {
          "base_uri": "https://localhost:8080/"
        },
        "id": "6B4ZZ4XVOP8q",
        "outputId": "1c0c259e-b105-4fbf-bf92-c7a0b9d89fdb"
      },
      "execution_count": 146,
      "outputs": [
        {
          "output_type": "stream",
          "name": "stderr",
          "text": [
            "/usr/local/lib/python3.11/dist-packages/sklearn/impute/_base.py:635: UserWarning: Skipping features without any observed values: ['MSZoning' 'Street' 'Alley' 'LotShape' 'LandContour' 'Utilities'\n",
            " 'LotConfig' 'LandSlope' 'Neighborhood' 'Condition1' 'Condition2'\n",
            " 'BldgType' 'HouseStyle' 'RoofStyle' 'RoofMatl' 'Exterior1st'\n",
            " 'Exterior2nd' 'MasVnrType' 'ExterQual' 'ExterCond' 'Foundation'\n",
            " 'BsmtQual' 'BsmtCond' 'BsmtExposure' 'BsmtFinType1' 'BsmtFinType2'\n",
            " 'Heating' 'HeatingQC' 'CentralAir' 'Electrical' 'KitchenQual'\n",
            " 'Functional' 'FireplaceQu' 'GarageType' 'GarageFinish' 'GarageQual'\n",
            " 'GarageCond' 'PavedDrive' 'PoolQC' 'Fence' 'MiscFeature' 'SaleType'\n",
            " 'SaleCondition']. At least one non-missing value is needed for imputation with strategy='mean'.\n",
            "  warnings.warn(\n",
            "/usr/local/lib/python3.11/dist-packages/sklearn/impute/_base.py:635: UserWarning: Skipping features without any observed values: ['MSZoning' 'Street' 'Alley' 'LotShape' 'LandContour' 'Utilities'\n",
            " 'LotConfig' 'LandSlope' 'Neighborhood' 'Condition1' 'Condition2'\n",
            " 'BldgType' 'HouseStyle' 'RoofStyle' 'RoofMatl' 'Exterior1st'\n",
            " 'Exterior2nd' 'MasVnrType' 'ExterQual' 'ExterCond' 'Foundation'\n",
            " 'BsmtQual' 'BsmtCond' 'BsmtExposure' 'BsmtFinType1' 'BsmtFinType2'\n",
            " 'Heating' 'HeatingQC' 'CentralAir' 'Electrical' 'KitchenQual'\n",
            " 'Functional' 'FireplaceQu' 'GarageType' 'GarageFinish' 'GarageQual'\n",
            " 'GarageCond' 'PavedDrive' 'PoolQC' 'Fence' 'MiscFeature' 'SaleType'\n",
            " 'SaleCondition']. At least one non-missing value is needed for imputation with strategy='mean'.\n",
            "  warnings.warn(\n"
          ]
        },
        {
          "output_type": "stream",
          "name": "stdout",
          "text": [
            "Gradient Boosting - MAE: 17140.13839952177\n",
            "Gradient Boosting - MSE: 750288913.4527429\n",
            "Gradient Boosting - R²: 0.9021829198411772\n"
          ]
        }
      ]
    },
    {
      "cell_type": "code",
      "source": [
        "pip install xgboost\n"
      ],
      "metadata": {
        "colab": {
          "base_uri": "https://localhost:8080/"
        },
        "id": "oRoscsxD05X0",
        "outputId": "caa164c0-2bc9-42bd-b471-1f6438137126"
      },
      "execution_count": 140,
      "outputs": [
        {
          "output_type": "stream",
          "name": "stdout",
          "text": [
            "Requirement already satisfied: xgboost in /usr/local/lib/python3.11/dist-packages (2.1.3)\n",
            "Requirement already satisfied: numpy in /usr/local/lib/python3.11/dist-packages (from xgboost) (1.26.4)\n",
            "Requirement already satisfied: nvidia-nccl-cu12 in /usr/local/lib/python3.11/dist-packages (from xgboost) (2.21.5)\n",
            "Requirement already satisfied: scipy in /usr/local/lib/python3.11/dist-packages (from xgboost) (1.13.1)\n"
          ]
        }
      ]
    },
    {
      "cell_type": "code",
      "source": [
        "import xgboost as xgb\n",
        "from sklearn.metrics import mean_absolute_error, mean_squared_error, r2_score\n",
        "\n",
        "# Initialize and train XGBoost\n",
        "xgb_model = xgb.XGBRegressor(n_estimators=200, learning_rate=0.1, max_depth=5, random_state=42)\n",
        "xgb_model.fit(X_train, y_train)\n",
        "\n",
        "# Predictions\n",
        "y_pred_xgb = xgb_model.predict(X_test)\n",
        "\n",
        "# Evaluate the model\n",
        "mae_xgb = mean_absolute_error(y_test, y_pred_xgb)\n",
        "mse_xgb = mean_squared_error(y_test, y_pred_xgb)\n",
        "r2_xgb = r2_score(y_test, y_pred_xgb)\n",
        "\n",
        "print(f\"XGBoost - MAE: {mae_xgb}\")\n",
        "print(f\"XGBoost - MSE: {mse_xgb}\")\n",
        "print(f\"XGBoost - R²: {r2_xgb}\")\n"
      ],
      "metadata": {
        "colab": {
          "base_uri": "https://localhost:8080/"
        },
        "id": "R8NB1KZdPCsJ",
        "outputId": "ebe25560-8126-48dd-b781-a307a14aac51"
      },
      "execution_count": 141,
      "outputs": [
        {
          "output_type": "stream",
          "name": "stdout",
          "text": [
            "XGBoost - MAE: 16227.472709760274\n",
            "XGBoost - MSE: 688575182.0977988\n",
            "XGBoost - R²: 0.9102286964728304\n"
          ]
        }
      ]
    },
    {
      "cell_type": "code",
      "source": [
        "from sklearn.tree import DecisionTreeRegressor\n",
        "\n",
        "# Train Decision Tree\n",
        "dt = DecisionTreeRegressor(random_state=42)\n",
        "dt.fit(X_train, y_train)\n",
        "\n",
        "# Predict\n",
        "y_pred_dt = dt.predict(X_test)\n",
        "\n",
        "# Evaluate\n",
        "mae_dt = mean_absolute_error(y_test, y_pred_dt)\n",
        "mse_dt = mean_squared_error(y_test, y_pred_dt)\n",
        "r2_dt = r2_score(y_test, y_pred_dt)\n",
        "\n",
        "print(f\"Decision Tree - MAE: {mae_dt}\")\n",
        "print(f\"Decision Tree - MSE: {mse_dt}\")\n",
        "print(f\"Decision Tree - R²: {r2_dt}\")\n"
      ],
      "metadata": {
        "colab": {
          "base_uri": "https://localhost:8080/"
        },
        "id": "gpMMvlbOOP4_",
        "outputId": "e28e8ebf-4940-41a5-fd39-17f160f063b5"
      },
      "execution_count": 138,
      "outputs": [
        {
          "output_type": "stream",
          "name": "stdout",
          "text": [
            "Decision Tree - MAE: 27674.81506849315\n",
            "Decision Tree - MSE: 1634837304.7465754\n",
            "Decision Tree - R²: 0.7868620889663432\n"
          ]
        }
      ]
    },
    {
      "cell_type": "markdown",
      "source": [
        "no needed just did for my own happiness."
      ],
      "metadata": {
        "id": "7i_eKL0AYoBX"
      }
    },
    {
      "cell_type": "code",
      "source": [
        "import matplotlib.pyplot as plt\n",
        "import seaborn as sns\n",
        "\n",
        "# Plotting the histogram for 'SalePrice'\n",
        "sns.histplot(target, bins=30, kde=True)\n",
        "plt.title(\"Histogram of SalePrice\")\n",
        "plt.xlabel(\"SalePrice\")\n",
        "plt.ylabel(\"Frequency\")\n",
        "plt.show()\n"
      ],
      "metadata": {
        "colab": {
          "base_uri": "https://localhost:8080/",
          "height": 472
        },
        "id": "A36HdEJv2Uii",
        "outputId": "dd572305-649c-4f59-a52e-dfc2317c4eff"
      },
      "execution_count": null,
      "outputs": [
        {
          "output_type": "display_data",
          "data": {
            "text/plain": [
              "<Figure size 640x480 with 1 Axes>"
            ],
            "image/png": "[encoded data removed]"
          },
          "metadata": {}
        }
      ]
    },
    {
      "cell_type": "markdown",
      "source": [
        "histogram of SalePrice, you can infer the following:\n",
        "\n",
        "Right-Skewed Distribution:\n",
        "\n",
        "The histogram shows that most house prices are concentrated on the left (lower price range), while fewer houses exist in the higher price range.\n",
        "The distribution has a long tail on the right, meaning there are some expensive houses that are far above the average.\n",
        "Potential Need for Transformation:\n",
        "\n",
        "Since regression models perform better with normally distributed target variables, you might consider applying a log transformation (log(SalePrice)) to make it more symmetric.\n",
        "Outliers in High Price Range:\n",
        "\n",
        "The long right tail suggests the presence of high-value outliers, which can impact your model’s performance.\n",
        "You may need to check and decide whether to keep or remove extreme outliers.\n",
        "Modeling Implications:\n",
        "\n",
        "If you use a linear regression model, it assumes normally distributed residuals. A skewed target variable might violate this assumption.\n",
        "Using transformations like log(SalePrice), Box-Cox, or other methods can help improve model performance."
      ],
      "metadata": {
        "id": "A4HDWiKkZUUm"
      }
    },
    {
      "cell_type": "code",
      "source": [
        "from scipy.stats import skew, kurtosis\n",
        "\n",
        "# Skewness and Kurtosis for 'SalePrice' (stored in 'target')\n",
        "print(\"Skewness:\", skew(target))\n",
        "print(\"Kurtosis:\", kurtosis(target))\n",
        "\n"
      ],
      "metadata": {
        "colab": {
          "base_uri": "https://localhost:8080/"
        },
        "id": "3dyfJIfZ2Ufr",
        "outputId": "fbf925d8-5da5-41e5-c7f0-b2055d7d14ed"
      },
      "execution_count": null,
      "outputs": [
        {
          "output_type": "stream",
          "name": "stdout",
          "text": [
            "Skewness: 1.880940746034036\n",
            "Kurtosis: 6.509812011089439\n"
          ]
        }
      ]
    },
    {
      "cell_type": "markdown",
      "source": [
        "1. Skewness: 1.88\n",
        "A skewness of 1.88 indicates a right-skewed (positive skew) distribution.\n",
        "This aligns with what we observed in your histogram: most house prices are on the lower side, with some very high-priced outliers.\n",
        "Implication: Right-skewed data can negatively impact regression models (especially linear regression). You may need a log transformation (log(SalePrice)) to make the distribution more symmetric.\n",
        "2. Kurtosis: 6.51\n",
        "Kurtosis above 3 (excess kurtosis) means the distribution has heavy tails and is leptokurtic.\n",
        "This suggests that there are more extreme values (outliers) compared to a normal distribution.\n",
        "Implication: High kurtosis means more extreme price values, which can impact the model's ability to generalize. You might need outlier handling techniques (e.g., capping, Winsorization, or robust regression)."
      ],
      "metadata": {
        "id": "kVZBUEsrZVvD"
      }
    },
    {
      "cell_type": "code",
      "source": [
        "import seaborn as sns\n",
        "import matplotlib.pyplot as plt\n",
        "import numpy as np\n",
        "\n",
        "# Apply log transformation on 'SalePrice' (stored in 'target')\n",
        "target_log = np.log(target)\n",
        "\n",
        "# Plot histogram for log-transformed 'SalePrice'\n",
        "sns.histplot(target_log, bins=30, kde=True)\n",
        "plt.title(\"Histogram of Log-Transformed SalePrice\")\n",
        "plt.show()"
      ],
      "metadata": {
        "colab": {
          "base_uri": "https://localhost:8080/",
          "height": 472
        },
        "id": "UCduDBsx2UbU",
        "outputId": "04979ab0-2d67-4ffc-c961-21652a135eba"
      },
      "execution_count": null,
      "outputs": [
        {
          "output_type": "display_data",
          "data": {
            "text/plain": [
              "<Figure size 640x480 with 1 Axes>"
            ],
            "image/png": "[encoded data removed]"
          },
          "metadata": {}
        }
      ]
    },
    {
      "cell_type": "code",
      "source": [
        "print(\"Skewness before log transformation:\", target.skew())\n",
        "print(\"Skewness after log transformation:\", target_log.skew())\n",
        "\n"
      ],
      "metadata": {
        "colab": {
          "base_uri": "https://localhost:8080/"
        },
        "id": "ghnH-YoA2UY1",
        "outputId": "2bff3ef3-a97f-4db0-a880-7d23de4d3aab"
      },
      "execution_count": null,
      "outputs": [
        {
          "output_type": "stream",
          "name": "stdout",
          "text": [
            "Skewness before log transformation: 1.8828757597682129\n",
            "Skewness after log transformation: 0.12133506220520406\n"
          ]
        }
      ]
    },
    {
      "cell_type": "markdown",
      "source": [
        "\n",
        "Skewness before log transformation: 1.88: This indicates that the SalePrice distribution is positively skewed (right-skewed), meaning it has a long tail on the right side.\n",
        "\n",
        "Skewness after log transformation: 0.12: After applying the log transformation, the skewness has reduced significantly, bringing the distribution closer to normal. A skewness near 0 suggests a more symmetric, approximately normal distribution."
      ],
      "metadata": {
        "id": "CNdsch6pauA-"
      }
    },
    {
      "cell_type": "code",
      "source": [
        "import scipy.stats as stats\n",
        "import matplotlib.pyplot as plt\n",
        "\n",
        "# Q-Q plot\n",
        "fig, ax = plt.subplots(1, 2, figsize=(12, 5))\n",
        "\n",
        "# Before log transformation (using target)\n",
        "stats.probplot(target, dist=\"norm\", plot=ax[0])\n",
        "ax[0].set_title(\"Q-Q Plot Before Log Transformation\")\n",
        "\n",
        "# After log transformation (using target_log)\n",
        "stats.probplot(target_log, dist=\"norm\", plot=ax[1])\n",
        "ax[1].set_title(\"Q-Q Plot After Log Transformation\")\n",
        "\n",
        "plt.show()\n"
      ],
      "metadata": {
        "colab": {
          "base_uri": "https://localhost:8080/",
          "height": 407
        },
        "id": "v3BK-PF72UWn",
        "outputId": "95464a36-12f9-4512-b4c0-9a61caab3d01"
      },
      "execution_count": null,
      "outputs": [
        {
          "output_type": "display_data",
          "data": {
            "text/plain": [
              "<Figure size 1200x500 with 2 Axes>"
            ],
            "image/png": "[encoded data removed]"
          },
          "metadata": {}
        }
      ]
    },
    {
      "cell_type": "markdown",
      "source": [
        " Check Normality Using a Q-Q Plot\n",
        "A Q-Q plot compares your data distribution to a normal distribution.\n",
        "\n",
        "Goal: The transformed data points should align closer to the diagonal line, indicating normality.\n",
        "\n"
      ],
      "metadata": {
        "id": "Hqbd0mKqbWOy"
      }
    },
    {
      "cell_type": "code",
      "source": [
        "import seaborn as sns\n",
        "import matplotlib.pyplot as plt\n",
        "\n",
        "# Boxplot for log-transformed 'SalePrice' (in target_log)\n",
        "sns.boxplot(x=target_log)\n",
        "plt.title(\"Boxplot of Log-Transformed SalePrice\")\n",
        "plt.show()\n",
        "\n"
      ],
      "metadata": {
        "colab": {
          "base_uri": "https://localhost:8080/",
          "height": 472
        },
        "id": "kRB1dARp2UUS",
        "outputId": "77b09c3a-ffee-41d6-c4db-5d986d69f5c6"
      },
      "execution_count": null,
      "outputs": [
        {
          "output_type": "display_data",
          "data": {
            "text/plain": [
              "<Figure size 640x480 with 1 Axes>"
            ],
            "image/png": "[encoded data removed]"
          },
          "metadata": {}
        }
      ]
    },
    {
      "cell_type": "markdown",
      "source": [
        "boxplot of the log-transformed SalePrice shows that some outliers still exist (the circles outside the whiskers). However, the transformation has compressed the spread, making the distribution more normal-like.\n",
        "\n",
        "Next Steps:\n",
        "Decide how to handle the remaining outliers:\n",
        "\n",
        "If they are legitimate data points, keeping them might be reasonable.\n",
        "If they are measurement errors or extreme values, consider removing them using the IQR method:\n",
        "Lower Bound\n",
        "=\n",
        "𝑄\n",
        "1\n",
        "−\n",
        "1.5\n",
        "×\n",
        "𝐼\n",
        "𝑄\n",
        "𝑅\n",
        "Lower Bound=Q1−1.5×IQR\n",
        "Upper Bound\n",
        "=\n",
        "𝑄\n",
        "3\n",
        "+\n",
        "1.5\n",
        "×\n",
        "𝐼\n",
        "𝑄\n",
        "𝑅\n",
        "Upper Bound=Q3+1.5×IQR\n",
        "Another option is using robust regression models like Ridge, Lasso, or Huber Regression to minimize their impact."
      ],
      "metadata": {
        "id": "XCE6k_UoeQTI"
      }
    },
    {
      "cell_type": "code",
      "source": [
        "import numpy as np\n",
        "\n",
        "Q1 = np.percentile(np.log(df['SalePrice']), 25)\n",
        "Q3 = np.percentile(np.log(df['SalePrice']), 75)\n",
        "IQR = Q3 - Q1\n",
        "\n",
        "lower_bound = Q1 - 1.5 * IQR\n",
        "upper_bound = Q3 + 1.5 * IQR\n",
        "\n",
        "outliers = df[(np.log(df['SalePrice']) < lower_bound) | (np.log(df['SalePrice']) > upper_bound)]\n",
        "print(f\"Number of outliers: {len(outliers)}\")\n"
      ],
      "metadata": {
        "colab": {
          "base_uri": "https://localhost:8080/"
        },
        "id": "ZZtBojEg2UPz",
        "outputId": "af12894c-af0f-4ac4-ae74-57ef9adc31e5"
      },
      "execution_count": null,
      "outputs": [
        {
          "output_type": "stream",
          "name": "stdout",
          "text": [
            "Number of outliers: 27\n"
          ]
        }
      ]
    },
    {
      "cell_type": "code",
      "source": [
        "# Remove the outliers from the dataset\n",
        "df_filtered = df[(df['SalePrice'] >= lower_bound) & (df['SalePrice'] <= upper_bound)]\n"
      ],
      "metadata": {
        "id": "igkwRdhj2UNb"
      },
      "execution_count": null,
      "outputs": []
    },
    {
      "cell_type": "markdown",
      "source": [
        " Visualize the Distribution Again\n",
        "Boxplot: Plot a boxplot for SalePrice again to confirm that the outliers have been successfully removed."
      ],
      "metadata": {
        "id": "2B5bhcUcjCnt"
      }
    },
    {
      "cell_type": "code",
      "source": [
        "import seaborn as sns\n",
        "import matplotlib.pyplot as plt\n",
        "\n",
        "# Boxplot after removing outliers\n",
        "sns.boxplot(x=df_filtered['SalePrice'])\n",
        "plt.title('Boxplot of SalePrice after removing outliers')\n",
        "plt.show()\n"
      ],
      "metadata": {
        "colab": {
          "base_uri": "https://localhost:8080/",
          "height": 452
        },
        "id": "xScaylre2UKx",
        "outputId": "78209b11-906f-4b7d-b3a1-0ab6a95365d9"
      },
      "execution_count": null,
      "outputs": [
        {
          "output_type": "display_data",
          "data": {
            "text/plain": [
              "<Figure size 640x480 with 1 Axes>"
            ],
            "image/png": "[encoded data removed]"
          },
          "metadata": {}
        }
      ]
    },
    {
      "cell_type": "markdown",
      "source": [
        "Histogram: A histogram will also show the distribution of SalePrice to check if it's more normally distributed (or close to it)."
      ],
      "metadata": {
        "id": "gr6OuYItjH6z"
      }
    },
    {
      "cell_type": "code",
      "source": [
        "df_filtered['SalePrice'].hist(bins=50)\n",
        "plt.title('Distribution of SalePrice after removing outliers')\n",
        "plt.xlabel('SalePrice')\n",
        "plt.ylabel('Frequency')\n",
        "plt.show()\n"
      ],
      "metadata": {
        "colab": {
          "base_uri": "https://localhost:8080/",
          "height": 472
        },
        "id": "G3nBaNM3foNt",
        "outputId": "89e8a973-b4f8-4ee0-9bb0-d534a9448bc0"
      },
      "execution_count": null,
      "outputs": [
        {
          "output_type": "display_data",
          "data": {
            "text/plain": [
              "<Figure size 640x480 with 1 Axes>"
            ],
            "image/png": "[encoded data removed]"
          },
          "metadata": {}
        }
      ]
    },
    {
      "cell_type": "markdown",
      "source": [
        "If your boxplot and histogram are showing blank after removing the outliers, there might be a couple of potential reasons:\n",
        "\n",
        "1. All Data Points Are Removed\n",
        "If the outlier removal step is too aggressive, it's possible that all the data points ended up being removed. This can happen if the boundaries defined by the IQR method were too restrictive.\n",
        "\n",
        "Check the Data Shape: After removing the outliers, check the size of the dataset"
      ],
      "metadata": {
        "id": "7udVIZ0cjQNA"
      }
    },
    {
      "cell_type": "code",
      "source": [
        "print(\"Shape of the dataset after removing outliers:\", df_filtered.shape)\n"
      ],
      "metadata": {
        "colab": {
          "base_uri": "https://localhost:8080/"
        },
        "id": "YYscqR8DgZCY",
        "outputId": "d7e55b87-5a22-4efa-8c75-55ba842d7361"
      },
      "execution_count": null,
      "outputs": [
        {
          "output_type": "stream",
          "name": "stdout",
          "text": [
            "Shape of the dataset after removing outliers: (0, 228)\n"
          ]
        }
      ]
    },
    {
      "cell_type": "markdown",
      "source": [
        "If the shape shows that you have very few or no rows left (e.g., (0, n)), then all the data might have been removed.\n",
        "2. Incorrect Boundaries or Filters\n",
        "It's possible that the boundaries you set for removing outliers (lower and upper bounds) might have been calculated incorrectly, leading to an empty dataset.\n",
        "\n",
        "Check the Boundaries: Print out the lower_bound and upper_bound values to see if they are reasonable.\n",
        "python\n",
        "Copy\n",
        "Edit\n"
      ],
      "metadata": {
        "id": "ARBPs-DBjYYn"
      }
    },
    {
      "cell_type": "code",
      "source": [
        "print(\"Lower Bound:\", lower_bound)\n",
        "print(\"Upper Bound:\", upper_bound)\n"
      ],
      "metadata": {
        "colab": {
          "base_uri": "https://localhost:8080/"
        },
        "id": "JLOVff8ZgipI",
        "outputId": "0cdb3a8d-b1ce-4216-89c4-2f8c65505302"
      },
      "execution_count": null,
      "outputs": [
        {
          "output_type": "stream",
          "name": "stdout",
          "text": [
            "Lower Bound: 2.403776362224595\n",
            "Upper Bound: 2.5696728901171104\n"
          ]
        }
      ]
    },
    {
      "cell_type": "markdown",
      "source": [
        "If these values are too extreme, they could be filtering out a large portion of your data.\n",
        "\n",
        "It seems like the lower and upper bounds you calculated are very close to each other, which likely results in only a very narrow range of values being retained after removing outliers. In fact, with those bounds (2.4 to 2.57), the dataset might only contain very few or no points at all, especially if your SalePrice values are much higher than this range.\n",
        "\n",
        "Possible Issues:\n",
        "Tight Boundaries: The IQR method might have resulted in overly restrictive boundaries. The bounds you calculated are quite narrow, suggesting that the dataset might only contain data points that fall within a very small range.\n",
        "\n",
        "Log Transformation Effect: If your SalePrice was subjected to a log transformation (like np.log1p(df['SalePrice'])), the values would be compressed, and the range of SalePrice would likely fall within a much smaller scale (closer to 0). This can lead to very tight IQR bounds.\n",
        "\n",
        "What to Do Next:\n",
        "1. Check the Range of SalePrice Before Outlier Removal\n",
        "Check the range of values in the original SalePrice column to get a sense of how wide the data distribution is before applying the IQR method."
      ],
      "metadata": {
        "id": "JVFqVVnPjaNn"
      }
    },
    {
      "cell_type": "code",
      "source": [
        "print(df['SalePrice'].describe())\n"
      ],
      "metadata": {
        "colab": {
          "base_uri": "https://localhost:8080/"
        },
        "id": "ANOBmo_ihGgk",
        "outputId": "f7ba6977-f405-4829-f063-c49d9c2e28ad"
      },
      "execution_count": null,
      "outputs": [
        {
          "output_type": "stream",
          "name": "stdout",
          "text": [
            "count    1460.000000\n",
            "mean       12.024057\n",
            "std         0.399449\n",
            "min        10.460271\n",
            "25%        11.775105\n",
            "50%        12.001512\n",
            "75%        12.273736\n",
            "max        13.534474\n",
            "Name: SalePrice, dtype: float64\n"
          ]
        }
      ]
    },
    {
      "cell_type": "markdown",
      "source": [
        "It looks like your SalePrice values have been transformed using a logarithmic scale (given that the mean is around 12, and the range is between 10 and 13). This transformation makes the values much smaller and more compressed, which is likely why your IQR bounds were so tight earlier.\n",
        "\n",
        "Now that you have the descriptive statistics, you can proceed with the following steps:\n",
        "\n",
        "1. Adjust the IQR Bounds Using the New Insights\n",
        "Since your SalePrice values are on a log scale, the IQR values should be adjusted accordingly. The bounds you calculated earlier might have been too narrow because of the transformation.\n",
        "\n",
        "Let’s calculate the IQR and set new bounds using a more reasonable multiplier (e.g., 1.5 or 2.5):"
      ],
      "metadata": {
        "id": "g-cmK7SnjfZt"
      }
    },
    {
      "cell_type": "code",
      "source": [
        "Q1 = df['SalePrice'].quantile(0.25)\n",
        "Q3 = df['SalePrice'].quantile(0.75)\n",
        "IQR = Q3 - Q1\n",
        "\n",
        "# Adjust bounds using a larger multiple of IQR (1.5 or 2.5)\n",
        "lower_bound = Q1 - 1.5 * IQR\n",
        "upper_bound = Q3 + 1.5 * IQR\n",
        "\n",
        "# Print the new bounds\n",
        "print(\"Lower Bound:\", lower_bound)\n",
        "print(\"Upper Bound:\", upper_bound)\n"
      ],
      "metadata": {
        "colab": {
          "base_uri": "https://localhost:8080/"
        },
        "id": "dfJEN_Fbhypg",
        "outputId": "46e91dfa-6f7b-4e7b-cddf-f7d1e231b5f2"
      },
      "execution_count": null,
      "outputs": [
        {
          "output_type": "stream",
          "name": "stdout",
          "text": [
            "Lower Bound: 11.027158653418315\n",
            "Upper Bound: 13.02168235497344\n"
          ]
        }
      ]
    },
    {
      "cell_type": "markdown",
      "source": [
        "2. Remove or Cap the Outliers\n",
        "Once you have the adjusted bounds, you can filter out the outliers or cap them based on these new values. If the new bounds still leave you with reasonable data points, you can proceed with this method.\n",
        "\n",
        "Remove Outliers:"
      ],
      "metadata": {
        "id": "sTKUzQQfj4pp"
      }
    },
    {
      "cell_type": "code",
      "source": [
        "df_filtered = df[(df['SalePrice'] >= lower_bound) & (df['SalePrice'] <= upper_bound)]\n",
        "print(\"Shape of the dataset after removing outliers:\", df_filtered.shape)\n"
      ],
      "metadata": {
        "colab": {
          "base_uri": "https://localhost:8080/"
        },
        "id": "62xf-Sh7iGSp",
        "outputId": "8094f4e0-b58c-4e8f-e4b5-b13858232793"
      },
      "execution_count": null,
      "outputs": [
        {
          "output_type": "stream",
          "name": "stdout",
          "text": [
            "Shape of the dataset after removing outliers: (1432, 228)\n"
          ]
        }
      ]
    },
    {
      "cell_type": "markdown",
      "source": [
        "Cap Outliers:"
      ],
      "metadata": {
        "id": "9NFqAyRLj7kr"
      }
    },
    {
      "cell_type": "code",
      "source": [
        "df['SalePrice'] = df['SalePrice'].clip(lower=lower_bound, upper=upper_bound)\n"
      ],
      "metadata": {
        "id": "RpBTyBrViKF3"
      },
      "execution_count": null,
      "outputs": []
    },
    {
      "cell_type": "markdown",
      "source": [
        "3. Replot the Data\n",
        "After adjusting the bounds, it’s a good idea to replot the boxplot and histogram to ensure that the distribution looks reasonable.\n",
        "\n",
        "Boxplot:"
      ],
      "metadata": {
        "id": "qZDTTzyEj-SN"
      }
    },
    {
      "cell_type": "code",
      "source": [
        "sns.boxplot(x=df_filtered['SalePrice'])  # or df['SalePrice'] if capping\n",
        "plt.title('Boxplot of SalePrice After Outlier Handling')\n",
        "plt.show()\n"
      ],
      "metadata": {
        "colab": {
          "base_uri": "https://localhost:8080/",
          "height": 472
        },
        "id": "zizTpzFhiP8q",
        "outputId": "ad1ab55a-7df6-4ca5-814a-6d3c80011130"
      },
      "execution_count": null,
      "outputs": [
        {
          "output_type": "display_data",
          "data": {
            "text/plain": [
              "<Figure size 640x480 with 1 Axes>"
            ],
            "image/png": "[encoded data removed]"
          },
          "metadata": {}
        }
      ]
    },
    {
      "cell_type": "markdown",
      "source": [
        "Histogram:"
      ],
      "metadata": {
        "id": "zpiFyWm1j_pV"
      }
    },
    {
      "cell_type": "code",
      "source": [
        "df_filtered['SalePrice'].hist(bins=50)  # or df['SalePrice'] if capping\n",
        "plt.title('Histogram of SalePrice After Outlier Handling')\n",
        "plt.xlabel('SalePrice')\n",
        "plt.ylabel('Frequency')\n",
        "plt.show()\n"
      ],
      "metadata": {
        "colab": {
          "base_uri": "https://localhost:8080/",
          "height": 472
        },
        "id": "L7c_NtyGiSVt",
        "outputId": "d22232e4-b438-4e5b-9266-c4199ad76dfc"
      },
      "execution_count": null,
      "outputs": [
        {
          "output_type": "display_data",
          "data": {
            "text/plain": [
              "<Figure size 640x480 with 1 Axes>"
            ],
            "image/png": "[encoded data removed]"
          },
          "metadata": {}
        }
      ]
    },
    {
      "cell_type": "markdown",
      "source": [
        "Standardization (Z-score Scaling):\n",
        "This method rescales the features to have a mean of 0 and a standard deviation of 1. It is the most widely used scaling technique, especially for linear models, SVM, and neural networks.\n",
        "Formula:\n",
        "𝑧\n",
        "=\n",
        "𝑋\n",
        "−\n",
        "𝜇\n",
        "𝜎\n",
        "z=\n",
        "σ\n",
        "X−μ\n",
        "​\n",
        "  where\n",
        "𝜇\n",
        "μ is the mean and\n",
        "𝜎\n",
        "σ is the standard deviation.\n"
      ],
      "metadata": {
        "id": "ivSYgJ8aoEPL"
      }
    },
    {
      "cell_type": "code",
      "source": [
        "import pandas as pd\n",
        "import xgboost as xgb\n",
        "from sklearn.preprocessing import LabelEncoder\n",
        "from sklearn.metrics import mean_absolute_error, mean_squared_error, r2_score\n",
        "\n",
        "# Train the model as before\n",
        "xgb_model = xgb.XGBRegressor(n_estimators=200, learning_rate=0.1, max_depth=5, random_state=42)\n",
        "xgb_model.fit(X_train, y_train)\n",
        "\n",
        "# Apply label encoding (if you're using label encoding) to the test data (df1)\n",
        "label_encoder = LabelEncoder()\n",
        "\n",
        "# Apply label encoding to categorical columns in df1 (same as in X_train)\n",
        "categorical_cols = df1.select_dtypes(include=['object']).columns\n",
        "\n",
        "for col in categorical_cols:\n",
        "    df1[col] = label_encoder.fit_transform(df1[col].astype(str))\n",
        "\n",
        "# Now, make final predictions using the trained model\n",
        "y_pred_final = xgb_model.predict(df1.drop(columns=['Id']))  # Drop 'Id' if it's present in df1\n",
        "\n",
        "# Save the predictions\n",
        "output = pd.DataFrame({'Id': df1['Id'], 'SalePrice': y_pred_final})\n",
        "output.to_csv('/sample_submission.csv', index=False)\n",
        "\n",
        "print(\"Predictions successfully saved!\")\n",
        "\n",
        "\n"
      ],
      "metadata": {
        "colab": {
          "base_uri": "https://localhost:8080/"
        },
        "id": "epq7fXgivgja",
        "outputId": "b748a2b7-5890-4c04-8005-94d3c900b49c"
      },
      "execution_count": 151,
      "outputs": [
        {
          "output_type": "stream",
          "name": "stdout",
          "text": [
            "Predictions successfully saved!\n"
          ]
        }
      ]
    }
  ]
}